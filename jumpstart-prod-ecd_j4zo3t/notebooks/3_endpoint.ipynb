{
 "cells": [
  {
   "cell_type": "markdown",
   "id": "bceef956",
   "metadata": {},
   "source": [
    "# Endpoint for Explanations\n",
    "\n",
    "In this notebook, we'll deploy the model explainer to a HTTP endpoint\n",
    "using Amazon SageMaker and visualize the explanations.\n",
    "\n",
    "You can bring also\n",
    "bring your own trained models to explain. See the customizing section for\n",
    "more details.\n",
    "\n",
    "**Note**: When running this notebook on SageMaker Studio, you should make\n",
    "sure the 'SageMaker JumpStart Data Science 1.0' image/kernel is used. You\n",
    "can run all cells or step through them one at a time.\n",
    "\n",
    "<p align=\"center\">\n",
    "  <img src=\"https://github.com/awslabs/sagemaker-explaining-credit-decisions/raw/master/docs/architecture_diagrams/stage_3.png\" width=\"1000px\">\n",
    "</p>"
   ]
  },
  {
   "cell_type": "markdown",
   "id": "1e01fb9f",
   "metadata": {},
   "source": [
    "This solution relies on a config file to run the provisioned AWS resources. Run the cell below to generate that file."
   ]
  },
  {
   "cell_type": "code",
   "execution_count": 2,
   "id": "433046f6",
   "metadata": {
    "tags": [],
    "vscode": {
     "languageId": "python"
    }
   },
   "outputs": [],
   "source": [
    "import boto3\n",
    "import os\n",
    "import json\n",
    " \n",
    "client = boto3.client('servicecatalog')\n",
    "cwd = os.getcwd().split('/')\n",
    "i= cwd.index('S3Downloads')\n",
    "pp_name = cwd[i + 1]\n",
    "pp = client.describe_provisioned_product(Name=pp_name)\n",
    "record_id = pp['ProvisionedProductDetail']['LastSuccessfulProvisioningRecordId']\n",
    "record = client.describe_record(Id=record_id)\n",
    " \n",
    "keys = [ x['OutputKey'] for x in record['RecordOutputs'] if 'OutputKey' and 'OutputValue' in x]\n",
    "values = [ x['OutputValue'] for x in record['RecordOutputs'] if 'OutputKey' and 'OutputValue' in x]\n",
    "stack_output = dict(zip(keys, values))\n",
    " \n",
    "with open(f'/root/S3Downloads/{pp_name}/stack_outputs.json', 'w') as f:\n",
    "    json.dump(stack_output, f)"
   ]
  },
  {
   "cell_type": "markdown",
   "id": "ae10ed91",
   "metadata": {},
   "source": [
    "We then import a variety of packages that will be used throughout\n",
    "the notebook. One of the most important packages used throughout this\n",
    "solution is the Amazon SageMaker Python SDK (i.e. `import sagemaker`). We\n",
    "also import modules from our own custom package that can be found at\n",
    "`./package`."
   ]
  },
  {
   "cell_type": "code",
   "execution_count": 3,
   "id": "482a5dd6",
   "metadata": {
    "tags": [],
    "vscode": {
     "languageId": "python"
    }
   },
   "outputs": [
    {
     "name": "stderr",
     "output_type": "stream",
     "text": [
      "/opt/conda/lib/python3.8/site-packages/scipy/__init__.py:146: UserWarning: A NumPy version >=1.16.5 and <1.23.0 is required for this version of SciPy (detected version 1.24.3\n",
      "  warnings.warn(f\"A NumPy version >={np_minversion} and <{np_maxversion}\"\n"
     ]
    }
   ],
   "source": [
    "from bokeh.plotting import output_notebook\n",
    "import boto3\n",
    "import sagemaker\n",
    "from pathlib import Path\n",
    "from sagemaker.sklearn import SKLearnModel\n",
    "import sys\n",
    "\n",
    "sys.path.insert(0, '../package')\n",
    "from package import config, utils, visuals\n",
    "from package.data import schemas"
   ]
  },
  {
   "cell_type": "markdown",
   "id": "ad1e3d44",
   "metadata": {},
   "source": [
    "Up next, we define the current folder, a sagemaker session and a\n",
    "sagemaker client (from `boto3`)."
   ]
  },
  {
   "cell_type": "code",
   "execution_count": 4,
   "id": "343b90a0",
   "metadata": {
    "lines_to_next_cell": 1,
    "tags": [],
    "vscode": {
     "languageId": "python"
    }
   },
   "outputs": [],
   "source": [
    "current_folder = utils.get_current_folder(globals())\n",
    "sagemaker_session = sagemaker.Session()\n",
    "sagemaker_client = boto3.client('sagemaker')"
   ]
  },
  {
   "cell_type": "markdown",
   "id": "54b4ff5b",
   "metadata": {},
   "source": [
    "We define a couple of functions below to retrive the model data (i.e.\n",
    "`model.tar.gz`) from the most recent trained model (from the last stage)."
   ]
  },
  {
   "cell_type": "code",
   "execution_count": 5,
   "id": "1d5c5a18",
   "metadata": {
    "lines_to_next_cell": 1,
    "tags": [],
    "vscode": {
     "languageId": "python"
    }
   },
   "outputs": [],
   "source": [
    "def get_latest_training_job(name_contains):\n",
    "    paginator = sagemaker_client.get_paginator('list_training_jobs')\n",
    "    try:\n",
    "        for page in paginator.paginate(NameContains=name_contains, StatusEquals='Completed'):\n",
    "            training_jobs = page['TrainingJobSummaries']\n",
    "            if len(training_jobs):\n",
    "                return training_jobs[0]['TrainingJobName']\n",
    "    except:\n",
    "        raise ValueError(\"Couldn't find any completed training jobs with '{}' in name.\".format(name_contains))\n",
    "\n",
    "\n",
    "def get_model_data(training_job):\n",
    "    response = sagemaker_client.describe_training_job(TrainingJobName=training_job)\n",
    "    assert 'ModelArtifacts' in response, \"Couldn't find ModelArtifacts for training job.\"\n",
    "    return response['ModelArtifacts']['S3ModelArtifacts']"
   ]
  },
  {
   "cell_type": "code",
   "execution_count": 6,
   "id": "1cd2b27a",
   "metadata": {
    "tags": [],
    "vscode": {
     "languageId": "python"
    }
   },
   "outputs": [
    {
     "name": "stdout",
     "output_type": "stream",
     "text": [
      "latest training job: sagemaker-soln-ecd-js-j4zo3t-2023-06-30-22-37-33-025\n"
     ]
    }
   ],
   "source": [
    "latest_training_job = get_latest_training_job(config.SOLUTION_PREFIX)\n",
    "print(\"latest training job: {}\".format(latest_training_job))\n",
    "model_data = get_model_data(latest_training_job)"
   ]
  },
  {
   "cell_type": "markdown",
   "id": "69df4c4e",
   "metadata": {},
   "source": [
    "Our model explainer endpoint will be named as per the `explainer_name`\n",
    "variable. AWS CloudFormation will delete this endpoint (and endpoint\n",
    "configuration) during stack deletion if the `endpoint_name` is kept as\n",
    "is. You will need to manually delete the endpoint (and endpoint\n",
    "configuration) after stack deletion if you change this."
   ]
  },
  {
   "cell_type": "code",
   "execution_count": 7,
   "id": "9d5fcde8",
   "metadata": {
    "tags": [],
    "vscode": {
     "languageId": "python"
    }
   },
   "outputs": [],
   "source": [
    "explainer_name = \"{}-explainer\".format(config.SOLUTION_PREFIX)"
   ]
  },
  {
   "cell_type": "markdown",
   "id": "4a126dc6",
   "metadata": {},
   "source": [
    "We define the model to deploy which includes the explainer logic."
   ]
  },
  {
   "cell_type": "code",
   "execution_count": 8,
   "id": "e82207ad",
   "metadata": {
    "tags": [],
    "vscode": {
     "languageId": "python"
    }
   },
   "outputs": [],
   "source": [
    "model = SKLearnModel(\n",
    "    name=explainer_name,\n",
    "    model_data=model_data,\n",
    "    role=config.IAM_ROLE,\n",
    "    entry_point='entry_point.py',\n",
    "    source_dir=str(Path(current_folder, '../containers/model/src').resolve()),\n",
    "    dependencies=[str(Path(current_folder, '../package/package').resolve())],\n",
    "    image_uri=config.ECR_IMAGE,\n",
    "    code_location='s3://' + str(Path(config.S3_BUCKET, config.OUTPUTS_S3_PREFIX))\n",
    ")"
   ]
  },
  {
   "cell_type": "markdown",
   "id": "b1cb4da3",
   "metadata": {},
   "source": [
    "Calling `deploy` will start a container to host the model.\n",
    "You can expect this step to take approximately 5 minutes."
   ]
  },
  {
   "cell_type": "code",
   "execution_count": 9,
   "id": "b6a7962b",
   "metadata": {
    "tags": [],
    "vscode": {
     "languageId": "python"
    }
   },
   "outputs": [
    {
     "name": "stdout",
     "output_type": "stream",
     "text": [
      "----!"
     ]
    }
   ],
   "source": [
    "from sagemaker.serializers import JSONSerializer\n",
    "from sagemaker.deserializers import JSONDeserializer\n",
    "\n",
    "entities = [\n",
    "    'data',\n",
    "    'features',\n",
    "    'descriptions',\n",
    "    'prediction',\n",
    "    'explanation_shap_values',\n",
    "    'explanation_shap_interaction_values'\n",
    "]\n",
    "\n",
    "explainer = model.deploy(\n",
    "    endpoint_name=explainer_name,\n",
    "    instance_type='ml.c5.xlarge',\n",
    "    initial_instance_count=1,\n",
    "    serializer=JSONSerializer(content_type=\"application/json; entities={}\".format(\",\".join(entities))),\n",
    "    deserializer=JSONDeserializer(),\n",
    "    tags=[{'Key': config.TAG_KEY, 'Value': config.SOLUTION_PREFIX}]\n",
    ")"
   ]
  },
  {
   "cell_type": "markdown",
   "id": "99a435af",
   "metadata": {},
   "source": [
    "When you're trying to update the model for development purposes, but\n",
    "experiencing issues because the model/endpoint-config/endpoint already\n",
    "exists, you can delete the existing model/endpoint-config/endpoint by\n",
    "uncommenting and running the following commands:"
   ]
  },
  {
   "cell_type": "code",
   "execution_count": 10,
   "id": "d7740f4e",
   "metadata": {
    "tags": [],
    "vscode": {
     "languageId": "python"
    }
   },
   "outputs": [],
   "source": [
    "# sagemaker_client.delete_endpoint(EndpointName=explainer_name)\n",
    "# sagemaker_client.delete_endpoint_config(EndpointConfigName=explainer_name)\n",
    "# sagemaker_client.delete_model(ModelName=explainer_name)"
   ]
  },
  {
   "cell_type": "markdown",
   "id": "5fb8014f",
   "metadata": {},
   "source": [
    "When calling our new endpoint from the notebook, we use a Amazon\n",
    "SageMaker SDK\n",
    "[`Predictor`](https://sagemaker.readthedocs.io/en/stable/predictors.html).\n",
    "A `Predictor` is used to send data to an endpoint (as part of a request),\n",
    "and interpret the response. Creating a `Predictor` does not affect the\n",
    "actual endpoint. Our endpoint expects to receive (and also sends) JSON\n",
    "formatted objects, and uses `content_type` to specify the entities\n",
    "requested (e.g. prediction, features, explanation_shap_values, etc.), so\n",
    "we create a custom `Predictor` called `Explainer`. JSON is used because\n",
    "it is a standard endpoint format and the endpoint response contains a\n",
    "nested data structure."
   ]
  },
  {
   "cell_type": "markdown",
   "id": "a704d0d5",
   "metadata": {},
   "source": [
    "## Model Explanations\n",
    "We can demonstrate the output of our new `explainer` endpoint with an\n",
    "example. One option would be to take a sample from our test set, but\n",
    "let's construct a sample by hand. Our example credit application is for\n",
    "6000 EUR and will be put towards buying a used car. You can always come\n",
    "back later and make changes to certain values."
   ]
  },
  {
   "cell_type": "code",
   "execution_count": 11,
   "id": "8f402aad",
   "metadata": {
    "tags": [],
    "vscode": {
     "languageId": "python"
    }
   },
   "outputs": [],
   "source": [
    "sample = {\n",
    "    'contact__has_telephone': False,\n",
    "    'credit__amount': 6000,\n",
    "    'credit__coapplicant': 1,\n",
    "    'credit__duration': 36,\n",
    "    'credit__guarantor': 0,\n",
    "    'credit__installment_rate': 3,\n",
    "    'credit__purpose': 'used_car',\n",
    "    'employment__duration': 0,\n",
    "    'employment__permit': 'foreign',\n",
    "    'employment__type': 'professional',\n",
    "    'finance__accounts__checking__balance': 'no_account',\n",
    "    'finance__accounts__savings__balance': 'low',\n",
    "    'finance__credits__other_banks': 0,\n",
    "    'finance__credits__other_stores': 0,\n",
    "    'finance__credits__this_bank': 1,\n",
    "    'finance__other_assets': 'life_insurance',\n",
    "    'finance__repayment_history': 'good',\n",
    "    'personal__num_dependents': 1,\n",
    "    'residence__duration': 4,\n",
    "    'residence__type': 'own'\n",
    "}"
   ]
  },
  {
   "cell_type": "markdown",
   "id": "914b2781",
   "metadata": {},
   "source": [
    "We can call `explainer.predict` with features (for a credit application)\n",
    "to obtain a prediction and its associated explanation. Using `Explainer`,\n",
    "the features will be converted from a Python list into a JSON string\n",
    "(using the Amazon SageMaker Python SDK's in-built `json_serializer`).\n",
    "Additionally, it will notify to the endpoint that the contents being sent\n",
    "are JSON formatted and the explanation entities are required (via\n",
    "`content_type`), and a JSON formatted response is requested in return\n",
    "(via `accept`). And lastly, the JSON response is converted back into\n",
    "Python objects (using `json_deserializer`).\n",
    "\n",
    "**Caution**: the probability returned by this model has not been\n",
    "calibrated. When the model gives a probability of credit default of 20%,\n",
    "for example, this does not necessarily mean that 20% of applications with\n",
    "a probability of 20% resulted in credit default. Calibration is a useful\n",
    "property in certain circumstances, but is not required in cases where\n",
    "discrimination between cases of default and non-defult is sufficient.\n",
    "[CalibratedClassifierCV](https://scikit-learn.org/stable/modules/generated/sklearn.calibration.CalibratedClassifierCV.html)\n",
    "from\n",
    "[Scikit-learn](https://scikit-learn.org/stable/modules/calibration.html)\n",
    "can be used to calibrate a model. Calibration also has an impact on the\n",
    "explanations. Since the calibration process is typically non-linear, it\n",
    "breaks the additive property of Shapley Values.\n",
    "[`KernelExplainer`](https://shap.readthedocs.io/en/latest/) can handle\n",
    "this case, but is typically much slower to compute the explanations."
   ]
  },
  {
   "cell_type": "code",
   "execution_count": 12,
   "id": "90a459c4",
   "metadata": {
    "tags": [],
    "vscode": {
     "languageId": "python"
    }
   },
   "outputs": [
    {
     "name": "stdout",
     "output_type": "stream",
     "text": [
      "Credit default risk: 16.06%\n"
     ]
    }
   ],
   "source": [
    "output = explainer.predict(sample)\n",
    "prediction = output['prediction']\n",
    "print(\"Credit default risk: {:.2%}\".format(prediction))"
   ]
  },
  {
   "cell_type": "markdown",
   "id": "7a49fc63",
   "metadata": {},
   "source": [
    "## Visualizing Explanations\n",
    "Although `output` contains all the information required to explain\n",
    "the machine learning model's prediction, looking at long lists of numbers\n",
    "isn't especially helpful. We provide a number of visualization that\n",
    "clearly show which features increase and decrease the risk of credit\n",
    "default for an individual credit application.\n",
    "\n",
    "A waterfall chart can be used to show the cumulative effect of each\n",
    "feature. Starting with the baseline probability for credit defaults (at\n",
    "the bottom of the chart), we can see how each additional feature shifts\n",
    "the probability. Green arrows indicate that the feature <span\n",
    "style=\"color:#69AE35\">*decreased* the predicted credit default\n",
    "risk</span> for the individual credit application. While red arrows\n",
    "indicate that the feature <span style=\"color:#FF5733\">*increased* the\n",
    "predicted credit default risk</span> for the individual credit\n",
    "application. After all features have been considered, we reach the final\n",
    "predicted credit default risk (at the top of the chart).\n",
    "\n",
    "We're using [`bokeh`](https://docs.bokeh.org/en/latest/index.html#) for\n",
    "interactive charts, so let's start by calling `output_notebook` to show the\n",
    "plots inside the notebook."
   ]
  },
  {
   "cell_type": "code",
   "execution_count": 13,
   "id": "d5e1f322",
   "metadata": {
    "tags": [],
    "vscode": {
     "languageId": "python"
    }
   },
   "outputs": [
    {
     "data": {
      "text/html": [
       "<style>\n",
       "        .bk-notebook-logo {\n",
       "            display: block;\n",
       "            width: 20px;\n",
       "            height: 20px;\n",
       "            background-image: url(data:image/png;base64,iVBORw0KGgoAAAANSUhEUgAAABQAAAAUCAYAAACNiR0NAAAABHNCSVQICAgIfAhkiAAAAAlwSFlzAAALEgAACxIB0t1+/AAAABx0RVh0U29mdHdhcmUAQWRvYmUgRmlyZXdvcmtzIENTNui8sowAAAOkSURBVDiNjZRtaJVlGMd/1/08zzln5zjP1LWcU9N0NkN8m2CYjpgQYQXqSs0I84OLIC0hkEKoPtiH3gmKoiJDU7QpLgoLjLIQCpEsNJ1vqUOdO7ppbuec5+V+rj4ctwzd8IIbbi6u+8f1539dt3A78eXC7QizUF7gyV1fD1Yqg4JWz84yffhm0qkFqBogB9rM8tZdtwVsPUhWhGcFJngGeWrPzHm5oaMmkfEg1usvLFyc8jLRqDOMru7AyC8saQr7GG7f5fvDeH7Ej8CM66nIF+8yngt6HWaKh7k49Soy9nXurCi1o3qUbS3zWfrYeQDTB/Qj6kX6Ybhw4B+bOYoLKCC9H3Nu/leUTZ1JdRWkkn2ldcCamzrcf47KKXdAJllSlxAOkRgyHsGC/zRday5Qld9DyoM4/q/rUoy/CXh3jzOu3bHUVZeU+DEn8FInkPBFlu3+nW3Nw0mk6vCDiWg8CeJaxEwuHS3+z5RgY+YBR6V1Z1nxSOfoaPa4LASWxxdNp+VWTk7+4vzaou8v8PN+xo+KY2xsw6une2frhw05CTYOmQvsEhjhWjn0bmXPjpE1+kplmmkP3suftwTubK9Vq22qKmrBhpY4jvd5afdRA3wGjFAgcnTK2s4hY0/GPNIb0nErGMCRxWOOX64Z8RAC4oCXdklmEvcL8o0BfkNK4lUg9HTl+oPlQxdNo3Mg4Nv175e/1LDGzZen30MEjRUtmXSfiTVu1kK8W4txyV6BMKlbgk3lMwYCiusNy9fVfvvwMxv8Ynl6vxoByANLTWplvuj/nF9m2+PDtt1eiHPBr1oIfhCChQMBw6Aw0UulqTKZdfVvfG7VcfIqLG9bcldL/+pdWTLxLUy8Qq38heUIjh4XlzZxzQm19lLFlr8vdQ97rjZVOLf8nclzckbcD4wxXMidpX30sFd37Fv/GtwwhzhxGVAprjbg0gCAEeIgwCZyTV2Z1REEW8O4py0wsjeloKoMr6iCY6dP92H6Vw/oTyICIthibxjm/DfN9lVz8IqtqKYLUXfoKVMVQVVJOElGjrnnUt9T9wbgp8AyYKaGlqingHZU/uG2NTZSVqwHQTWkx9hxjkpWDaCg6Ckj5qebgBVbT3V3NNXMSiWSDdGV3hrtzla7J+duwPOToIg42ChPQOQjspnSlp1V+Gjdged7+8UN5CRAV7a5EdFNwCjEaBR27b3W890TE7g24NAP/mMDXRWrGoFPQI9ls/MWO2dWFAar/xcOIImbbpA3zgAAAABJRU5ErkJggg==);\n",
       "        }\n",
       "    </style>\n",
       "    <div>\n",
       "        <a href=\"https://bokeh.org\" target=\"_blank\" class=\"bk-notebook-logo\"></a>\n",
       "        <span id=\"ca9307b2-0c30-467a-ab42-84a734361141\">Loading BokehJS ...</span>\n",
       "    </div>\n"
      ]
     },
     "metadata": {},
     "output_type": "display_data"
    },
    {
     "data": {
      "application/javascript": [
       "(function(root) {\n",
       "  function now() {\n",
       "    return new Date();\n",
       "  }\n",
       "\n",
       "  const force = true;\n",
       "\n",
       "  if (typeof root._bokeh_onload_callbacks === \"undefined\" || force === true) {\n",
       "    root._bokeh_onload_callbacks = [];\n",
       "    root._bokeh_is_loading = undefined;\n",
       "  }\n",
       "\n",
       "const JS_MIME_TYPE = 'application/javascript';\n",
       "  const HTML_MIME_TYPE = 'text/html';\n",
       "  const EXEC_MIME_TYPE = 'application/vnd.bokehjs_exec.v0+json';\n",
       "  const CLASS_NAME = 'output_bokeh rendered_html';\n",
       "\n",
       "  /**\n",
       "   * Render data to the DOM node\n",
       "   */\n",
       "  function render(props, node) {\n",
       "    const script = document.createElement(\"script\");\n",
       "    node.appendChild(script);\n",
       "  }\n",
       "\n",
       "  /**\n",
       "   * Handle when an output is cleared or removed\n",
       "   */\n",
       "  function handleClearOutput(event, handle) {\n",
       "    const cell = handle.cell;\n",
       "\n",
       "    const id = cell.output_area._bokeh_element_id;\n",
       "    const server_id = cell.output_area._bokeh_server_id;\n",
       "    // Clean up Bokeh references\n",
       "    if (id != null && id in Bokeh.index) {\n",
       "      Bokeh.index[id].model.document.clear();\n",
       "      delete Bokeh.index[id];\n",
       "    }\n",
       "\n",
       "    if (server_id !== undefined) {\n",
       "      // Clean up Bokeh references\n",
       "      const cmd_clean = \"from bokeh.io.state import curstate; print(curstate().uuid_to_server['\" + server_id + \"'].get_sessions()[0].document.roots[0]._id)\";\n",
       "      cell.notebook.kernel.execute(cmd_clean, {\n",
       "        iopub: {\n",
       "          output: function(msg) {\n",
       "            const id = msg.content.text.trim();\n",
       "            if (id in Bokeh.index) {\n",
       "              Bokeh.index[id].model.document.clear();\n",
       "              delete Bokeh.index[id];\n",
       "            }\n",
       "          }\n",
       "        }\n",
       "      });\n",
       "      // Destroy server and session\n",
       "      const cmd_destroy = \"import bokeh.io.notebook as ion; ion.destroy_server('\" + server_id + \"')\";\n",
       "      cell.notebook.kernel.execute(cmd_destroy);\n",
       "    }\n",
       "  }\n",
       "\n",
       "  /**\n",
       "   * Handle when a new output is added\n",
       "   */\n",
       "  function handleAddOutput(event, handle) {\n",
       "    const output_area = handle.output_area;\n",
       "    const output = handle.output;\n",
       "\n",
       "    // limit handleAddOutput to display_data with EXEC_MIME_TYPE content only\n",
       "    if ((output.output_type != \"display_data\") || (!Object.prototype.hasOwnProperty.call(output.data, EXEC_MIME_TYPE))) {\n",
       "      return\n",
       "    }\n",
       "\n",
       "    const toinsert = output_area.element.find(\".\" + CLASS_NAME.split(' ')[0]);\n",
       "\n",
       "    if (output.metadata[EXEC_MIME_TYPE][\"id\"] !== undefined) {\n",
       "      toinsert[toinsert.length - 1].firstChild.textContent = output.data[JS_MIME_TYPE];\n",
       "      // store reference to embed id on output_area\n",
       "      output_area._bokeh_element_id = output.metadata[EXEC_MIME_TYPE][\"id\"];\n",
       "    }\n",
       "    if (output.metadata[EXEC_MIME_TYPE][\"server_id\"] !== undefined) {\n",
       "      const bk_div = document.createElement(\"div\");\n",
       "      bk_div.innerHTML = output.data[HTML_MIME_TYPE];\n",
       "      const script_attrs = bk_div.children[0].attributes;\n",
       "      for (let i = 0; i < script_attrs.length; i++) {\n",
       "        toinsert[toinsert.length - 1].firstChild.setAttribute(script_attrs[i].name, script_attrs[i].value);\n",
       "        toinsert[toinsert.length - 1].firstChild.textContent = bk_div.children[0].textContent\n",
       "      }\n",
       "      // store reference to server id on output_area\n",
       "      output_area._bokeh_server_id = output.metadata[EXEC_MIME_TYPE][\"server_id\"];\n",
       "    }\n",
       "  }\n",
       "\n",
       "  function register_renderer(events, OutputArea) {\n",
       "\n",
       "    function append_mime(data, metadata, element) {\n",
       "      // create a DOM node to render to\n",
       "      const toinsert = this.create_output_subarea(\n",
       "        metadata,\n",
       "        CLASS_NAME,\n",
       "        EXEC_MIME_TYPE\n",
       "      );\n",
       "      this.keyboard_manager.register_events(toinsert);\n",
       "      // Render to node\n",
       "      const props = {data: data, metadata: metadata[EXEC_MIME_TYPE]};\n",
       "      render(props, toinsert[toinsert.length - 1]);\n",
       "      element.append(toinsert);\n",
       "      return toinsert\n",
       "    }\n",
       "\n",
       "    /* Handle when an output is cleared or removed */\n",
       "    events.on('clear_output.CodeCell', handleClearOutput);\n",
       "    events.on('delete.Cell', handleClearOutput);\n",
       "\n",
       "    /* Handle when a new output is added */\n",
       "    events.on('output_added.OutputArea', handleAddOutput);\n",
       "\n",
       "    /**\n",
       "     * Register the mime type and append_mime function with output_area\n",
       "     */\n",
       "    OutputArea.prototype.register_mime_type(EXEC_MIME_TYPE, append_mime, {\n",
       "      /* Is output safe? */\n",
       "      safe: true,\n",
       "      /* Index of renderer in `output_area.display_order` */\n",
       "      index: 0\n",
       "    });\n",
       "  }\n",
       "\n",
       "  // register the mime type if in Jupyter Notebook environment and previously unregistered\n",
       "  if (root.Jupyter !== undefined) {\n",
       "    const events = require('base/js/events');\n",
       "    const OutputArea = require('notebook/js/outputarea').OutputArea;\n",
       "\n",
       "    if (OutputArea.prototype.mime_types().indexOf(EXEC_MIME_TYPE) == -1) {\n",
       "      register_renderer(events, OutputArea);\n",
       "    }\n",
       "  }\n",
       "  if (typeof (root._bokeh_timeout) === \"undefined\" || force === true) {\n",
       "    root._bokeh_timeout = Date.now() + 5000;\n",
       "    root._bokeh_failed_load = false;\n",
       "  }\n",
       "\n",
       "  const NB_LOAD_WARNING = {'data': {'text/html':\n",
       "     \"<div style='background-color: #fdd'>\\n\"+\n",
       "     \"<p>\\n\"+\n",
       "     \"BokehJS does not appear to have successfully loaded. If loading BokehJS from CDN, this \\n\"+\n",
       "     \"may be due to a slow or bad network connection. Possible fixes:\\n\"+\n",
       "     \"</p>\\n\"+\n",
       "     \"<ul>\\n\"+\n",
       "     \"<li>re-rerun `output_notebook()` to attempt to load from CDN again, or</li>\\n\"+\n",
       "     \"<li>use INLINE resources instead, as so:</li>\\n\"+\n",
       "     \"</ul>\\n\"+\n",
       "     \"<code>\\n\"+\n",
       "     \"from bokeh.resources import INLINE\\n\"+\n",
       "     \"output_notebook(resources=INLINE)\\n\"+\n",
       "     \"</code>\\n\"+\n",
       "     \"</div>\"}};\n",
       "\n",
       "  function display_loaded() {\n",
       "    const el = document.getElementById(\"ca9307b2-0c30-467a-ab42-84a734361141\");\n",
       "    if (el != null) {\n",
       "      el.textContent = \"BokehJS is loading...\";\n",
       "    }\n",
       "    if (root.Bokeh !== undefined) {\n",
       "      if (el != null) {\n",
       "        el.textContent = \"BokehJS \" + root.Bokeh.version + \" successfully loaded.\";\n",
       "      }\n",
       "    } else if (Date.now() < root._bokeh_timeout) {\n",
       "      setTimeout(display_loaded, 100)\n",
       "    }\n",
       "  }\n",
       "\n",
       "  function run_callbacks() {\n",
       "    try {\n",
       "      root._bokeh_onload_callbacks.forEach(function(callback) {\n",
       "        if (callback != null)\n",
       "          callback();\n",
       "      });\n",
       "    } finally {\n",
       "      delete root._bokeh_onload_callbacks\n",
       "    }\n",
       "    console.debug(\"Bokeh: all callbacks have finished\");\n",
       "  }\n",
       "\n",
       "  function load_libs(css_urls, js_urls, callback) {\n",
       "    if (css_urls == null) css_urls = [];\n",
       "    if (js_urls == null) js_urls = [];\n",
       "\n",
       "    root._bokeh_onload_callbacks.push(callback);\n",
       "    if (root._bokeh_is_loading > 0) {\n",
       "      console.debug(\"Bokeh: BokehJS is being loaded, scheduling callback at\", now());\n",
       "      return null;\n",
       "    }\n",
       "    if (js_urls == null || js_urls.length === 0) {\n",
       "      run_callbacks();\n",
       "      return null;\n",
       "    }\n",
       "    console.debug(\"Bokeh: BokehJS not loaded, scheduling load and callback at\", now());\n",
       "    root._bokeh_is_loading = css_urls.length + js_urls.length;\n",
       "\n",
       "    function on_load() {\n",
       "      root._bokeh_is_loading--;\n",
       "      if (root._bokeh_is_loading === 0) {\n",
       "        console.debug(\"Bokeh: all BokehJS libraries/stylesheets loaded\");\n",
       "        run_callbacks()\n",
       "      }\n",
       "    }\n",
       "\n",
       "    function on_error(url) {\n",
       "      console.error(\"failed to load \" + url);\n",
       "    }\n",
       "\n",
       "    for (let i = 0; i < css_urls.length; i++) {\n",
       "      const url = css_urls[i];\n",
       "      const element = document.createElement(\"link\");\n",
       "      element.onload = on_load;\n",
       "      element.onerror = on_error.bind(null, url);\n",
       "      element.rel = \"stylesheet\";\n",
       "      element.type = \"text/css\";\n",
       "      element.href = url;\n",
       "      console.debug(\"Bokeh: injecting link tag for BokehJS stylesheet: \", url);\n",
       "      document.body.appendChild(element);\n",
       "    }\n",
       "\n",
       "    for (let i = 0; i < js_urls.length; i++) {\n",
       "      const url = js_urls[i];\n",
       "      const element = document.createElement('script');\n",
       "      element.onload = on_load;\n",
       "      element.onerror = on_error.bind(null, url);\n",
       "      element.async = false;\n",
       "      element.src = url;\n",
       "      console.debug(\"Bokeh: injecting script tag for BokehJS library: \", url);\n",
       "      document.head.appendChild(element);\n",
       "    }\n",
       "  };\n",
       "\n",
       "  function inject_raw_css(css) {\n",
       "    const element = document.createElement(\"style\");\n",
       "    element.appendChild(document.createTextNode(css));\n",
       "    document.body.appendChild(element);\n",
       "  }\n",
       "\n",
       "  const js_urls = [\"https://cdn.bokeh.org/bokeh/release/bokeh-3.1.1.min.js\", \"https://cdn.bokeh.org/bokeh/release/bokeh-gl-3.1.1.min.js\", \"https://cdn.bokeh.org/bokeh/release/bokeh-widgets-3.1.1.min.js\", \"https://cdn.bokeh.org/bokeh/release/bokeh-tables-3.1.1.min.js\", \"https://cdn.bokeh.org/bokeh/release/bokeh-mathjax-3.1.1.min.js\"];\n",
       "  const css_urls = [];\n",
       "\n",
       "  const inline_js = [    function(Bokeh) {\n",
       "      Bokeh.set_log_level(\"info\");\n",
       "    },\n",
       "function(Bokeh) {\n",
       "    }\n",
       "  ];\n",
       "\n",
       "  function run_inline_js() {\n",
       "    if (root.Bokeh !== undefined || force === true) {\n",
       "          for (let i = 0; i < inline_js.length; i++) {\n",
       "      inline_js[i].call(root, root.Bokeh);\n",
       "    }\n",
       "if (force === true) {\n",
       "        display_loaded();\n",
       "      }} else if (Date.now() < root._bokeh_timeout) {\n",
       "      setTimeout(run_inline_js, 100);\n",
       "    } else if (!root._bokeh_failed_load) {\n",
       "      console.log(\"Bokeh: BokehJS failed to load within specified timeout.\");\n",
       "      root._bokeh_failed_load = true;\n",
       "    } else if (force !== true) {\n",
       "      const cell = $(document.getElementById(\"ca9307b2-0c30-467a-ab42-84a734361141\")).parents('.cell').data().cell;\n",
       "      cell.output_area.append_execute_result(NB_LOAD_WARNING)\n",
       "    }\n",
       "  }\n",
       "\n",
       "  if (root._bokeh_is_loading === 0) {\n",
       "    console.debug(\"Bokeh: BokehJS loaded, going straight to plotting\");\n",
       "    run_inline_js();\n",
       "  } else {\n",
       "    load_libs(css_urls, js_urls, function() {\n",
       "      console.debug(\"Bokeh: BokehJS plotting callback run at\", now());\n",
       "      run_inline_js();\n",
       "    });\n",
       "  }\n",
       "}(window));"
      ],
      "application/vnd.bokehjs_load.v0+json": "(function(root) {\n  function now() {\n    return new Date();\n  }\n\n  const force = true;\n\n  if (typeof root._bokeh_onload_callbacks === \"undefined\" || force === true) {\n    root._bokeh_onload_callbacks = [];\n    root._bokeh_is_loading = undefined;\n  }\n\n\n  if (typeof (root._bokeh_timeout) === \"undefined\" || force === true) {\n    root._bokeh_timeout = Date.now() + 5000;\n    root._bokeh_failed_load = false;\n  }\n\n  const NB_LOAD_WARNING = {'data': {'text/html':\n     \"<div style='background-color: #fdd'>\\n\"+\n     \"<p>\\n\"+\n     \"BokehJS does not appear to have successfully loaded. If loading BokehJS from CDN, this \\n\"+\n     \"may be due to a slow or bad network connection. Possible fixes:\\n\"+\n     \"</p>\\n\"+\n     \"<ul>\\n\"+\n     \"<li>re-rerun `output_notebook()` to attempt to load from CDN again, or</li>\\n\"+\n     \"<li>use INLINE resources instead, as so:</li>\\n\"+\n     \"</ul>\\n\"+\n     \"<code>\\n\"+\n     \"from bokeh.resources import INLINE\\n\"+\n     \"output_notebook(resources=INLINE)\\n\"+\n     \"</code>\\n\"+\n     \"</div>\"}};\n\n  function display_loaded() {\n    const el = document.getElementById(\"ca9307b2-0c30-467a-ab42-84a734361141\");\n    if (el != null) {\n      el.textContent = \"BokehJS is loading...\";\n    }\n    if (root.Bokeh !== undefined) {\n      if (el != null) {\n        el.textContent = \"BokehJS \" + root.Bokeh.version + \" successfully loaded.\";\n      }\n    } else if (Date.now() < root._bokeh_timeout) {\n      setTimeout(display_loaded, 100)\n    }\n  }\n\n  function run_callbacks() {\n    try {\n      root._bokeh_onload_callbacks.forEach(function(callback) {\n        if (callback != null)\n          callback();\n      });\n    } finally {\n      delete root._bokeh_onload_callbacks\n    }\n    console.debug(\"Bokeh: all callbacks have finished\");\n  }\n\n  function load_libs(css_urls, js_urls, callback) {\n    if (css_urls == null) css_urls = [];\n    if (js_urls == null) js_urls = [];\n\n    root._bokeh_onload_callbacks.push(callback);\n    if (root._bokeh_is_loading > 0) {\n      console.debug(\"Bokeh: BokehJS is being loaded, scheduling callback at\", now());\n      return null;\n    }\n    if (js_urls == null || js_urls.length === 0) {\n      run_callbacks();\n      return null;\n    }\n    console.debug(\"Bokeh: BokehJS not loaded, scheduling load and callback at\", now());\n    root._bokeh_is_loading = css_urls.length + js_urls.length;\n\n    function on_load() {\n      root._bokeh_is_loading--;\n      if (root._bokeh_is_loading === 0) {\n        console.debug(\"Bokeh: all BokehJS libraries/stylesheets loaded\");\n        run_callbacks()\n      }\n    }\n\n    function on_error(url) {\n      console.error(\"failed to load \" + url);\n    }\n\n    for (let i = 0; i < css_urls.length; i++) {\n      const url = css_urls[i];\n      const element = document.createElement(\"link\");\n      element.onload = on_load;\n      element.onerror = on_error.bind(null, url);\n      element.rel = \"stylesheet\";\n      element.type = \"text/css\";\n      element.href = url;\n      console.debug(\"Bokeh: injecting link tag for BokehJS stylesheet: \", url);\n      document.body.appendChild(element);\n    }\n\n    for (let i = 0; i < js_urls.length; i++) {\n      const url = js_urls[i];\n      const element = document.createElement('script');\n      element.onload = on_load;\n      element.onerror = on_error.bind(null, url);\n      element.async = false;\n      element.src = url;\n      console.debug(\"Bokeh: injecting script tag for BokehJS library: \", url);\n      document.head.appendChild(element);\n    }\n  };\n\n  function inject_raw_css(css) {\n    const element = document.createElement(\"style\");\n    element.appendChild(document.createTextNode(css));\n    document.body.appendChild(element);\n  }\n\n  const js_urls = [\"https://cdn.bokeh.org/bokeh/release/bokeh-3.1.1.min.js\", \"https://cdn.bokeh.org/bokeh/release/bokeh-gl-3.1.1.min.js\", \"https://cdn.bokeh.org/bokeh/release/bokeh-widgets-3.1.1.min.js\", \"https://cdn.bokeh.org/bokeh/release/bokeh-tables-3.1.1.min.js\", \"https://cdn.bokeh.org/bokeh/release/bokeh-mathjax-3.1.1.min.js\"];\n  const css_urls = [];\n\n  const inline_js = [    function(Bokeh) {\n      Bokeh.set_log_level(\"info\");\n    },\nfunction(Bokeh) {\n    }\n  ];\n\n  function run_inline_js() {\n    if (root.Bokeh !== undefined || force === true) {\n          for (let i = 0; i < inline_js.length; i++) {\n      inline_js[i].call(root, root.Bokeh);\n    }\nif (force === true) {\n        display_loaded();\n      }} else if (Date.now() < root._bokeh_timeout) {\n      setTimeout(run_inline_js, 100);\n    } else if (!root._bokeh_failed_load) {\n      console.log(\"Bokeh: BokehJS failed to load within specified timeout.\");\n      root._bokeh_failed_load = true;\n    } else if (force !== true) {\n      const cell = $(document.getElementById(\"ca9307b2-0c30-467a-ab42-84a734361141\")).parents('.cell').data().cell;\n      cell.output_area.append_execute_result(NB_LOAD_WARNING)\n    }\n  }\n\n  if (root._bokeh_is_loading === 0) {\n    console.debug(\"Bokeh: BokehJS loaded, going straight to plotting\");\n    run_inline_js();\n  } else {\n    load_libs(css_urls, js_urls, function() {\n      console.debug(\"Bokeh: BokehJS plotting callback run at\", now());\n      run_inline_js();\n    });\n  }\n}(window));"
     },
     "metadata": {},
     "output_type": "display_data"
    }
   ],
   "source": [
    "output_notebook()"
   ]
  },
  {
   "cell_type": "markdown",
   "id": "b8280cfb",
   "metadata": {},
   "source": [
    "### Summary Explanation\n",
    "As mentioned earlier on in this notebook, our features can be grouped\n",
    "together into categories. We can extract the top level category for each\n",
    "feature, by extracting the start of the feature name before the level\n",
    "seperator. We use two consecutive underscores (`__`) as our level\n",
    "separator. Once we have the category for each feature, we can calculate\n",
    "the the overall effect for each category. All of this is performed in\n",
    "`summarize_explanation`."
   ]
  },
  {
   "cell_type": "code",
   "execution_count": 14,
   "id": "8366ed05",
   "metadata": {
    "tags": [],
    "vscode": {
     "languageId": "python"
    }
   },
   "outputs": [],
   "source": [
    "explanation_summary = visuals.summary_explanation(output)"
   ]
  },
  {
   "cell_type": "markdown",
   "id": "23192a03",
   "metadata": {},
   "source": [
    "We then show the associated waterfall chart."
   ]
  },
  {
   "cell_type": "code",
   "execution_count": 15,
   "id": "3c641a8f",
   "metadata": {
    "tags": [],
    "vscode": {
     "languageId": "python"
    }
   },
   "outputs": [
    {
     "data": {
      "text/html": [
       "\n",
       "  <div id=\"a1e8df3c-5917-42f7-a078-267f373e440d\" data-root-id=\"p1004\" style=\"display: contents;\"></div>\n"
      ]
     },
     "metadata": {},
     "output_type": "display_data"
    },
    {
     "data": {
      "application/javascript": [
       "(function(root) {\n",
       "  function embed_document(root) {\n",
       "  const docs_json = {\"73b6079d-11a1-4661-96a5-6c8098c01486\":{\"version\":\"3.1.1\",\"title\":\"Bokeh Application\",\"defs\":[],\"roots\":[{\"type\":\"object\",\"name\":\"Figure\",\"id\":\"p1004\",\"attributes\":{\"x_range\":{\"type\":\"object\",\"name\":\"Range1d\",\"id\":\"p1038\",\"attributes\":{\"start\":0.1418903407063346,\"end\":0.29750373697212534}},\"y_range\":{\"type\":\"object\",\"name\":\"FactorRange\",\"id\":\"p1015\",\"attributes\":{\"factors\":[\"finance\",\"employment\",\"credit\",\"contact\",\"personal\",\"residence\"]}},\"x_scale\":{\"type\":\"object\",\"name\":\"LogScale\",\"id\":\"p1017\"},\"y_scale\":{\"type\":\"object\",\"name\":\"CategoricalScale\",\"id\":\"p1019\"},\"extra_x_ranges\":{\"type\":\"map\",\"entries\":[[\"probability\",{\"id\":\"p1038\"}]]},\"title\":{\"type\":\"object\",\"name\":\"Title\",\"id\":\"p1010\"},\"renderers\":[{\"type\":\"object\",\"name\":\"GlyphRenderer\",\"id\":\"p1057\",\"attributes\":{\"data_source\":{\"type\":\"object\",\"name\":\"ColumnDataSource\",\"id\":\"p1001\",\"attributes\":{\"selected\":{\"type\":\"object\",\"name\":\"Selection\",\"id\":\"p1002\",\"attributes\":{\"indices\":[],\"line_indices\":[]}},\"selection_policy\":{\"type\":\"object\",\"name\":\"UnionRenderers\",\"id\":\"p1003\"},\"data\":{\"type\":\"map\",\"entries\":[[\"shap_value\",{\"type\":\"ndarray\",\"array\":{\"type\":\"bytes\",\"data\":\"KuZO7GwT6L/3oBwFbTLBP86gxrAoMrW/AAAAAAAAAAAAAAAAAAAAAAAAAAAAAAAA\"},\"shape\":[6],\"dtype\":\"float64\",\"order\":\"little\"}],[\"name\",[\"finance\",\"employment\",\"credit\",\"contact\",\"personal\",\"residence\"]],[\"segment_color\",[\"#69AE35\",\"#FF5733\",\"#69AE35\",\"#69AE35\",\"#69AE35\",\"#69AE35\"]],[\"segment_start_proba\",{\"type\":\"ndarray\",\"array\":{\"type\":\"bytes\",\"data\":\"dH9lHoTO0T81oGxAd63DP0LQbjY2BcY/7kiL0DCNxD/uSIvQMI3EP+5Ii9AwjcQ/\"},\"shape\":[6],\"dtype\":\"float64\",\"order\":\"little\"}],[\"segment_end_proba\",{\"type\":\"ndarray\",\"array\":{\"type\":\"bytes\",\"data\":\"NaBsQHetwz9C0G42NgXGP+5Ii9AwjcQ/7kiL0DCNxD/uSIvQMI3EP+5Ii9AwjcQ/\"},\"shape\":[6],\"dtype\":\"float64\",\"order\":\"little\"}],[\"descriptions\",[\"All 'finance' features combined.\",\"All 'employment' features combined.\",\"All 'credit' features combined.\",\"All 'contact' features combined.\",\"All 'personal' features combined.\",\"All 'residence' features combined.\"]]]}}},\"view\":{\"type\":\"object\",\"name\":\"CDSView\",\"id\":\"p1058\",\"attributes\":{\"filter\":{\"type\":\"object\",\"name\":\"AllIndices\",\"id\":\"p1059\"}}},\"glyph\":{\"type\":\"object\",\"name\":\"Segment\",\"id\":\"p1054\",\"attributes\":{\"x0\":{\"type\":\"field\",\"field\":\"segment_start_proba\"},\"y0\":{\"type\":\"field\",\"field\":\"name\"},\"x1\":{\"type\":\"field\",\"field\":\"segment_end_proba\"},\"y1\":{\"type\":\"field\",\"field\":\"name\"},\"line_color\":{\"type\":\"field\",\"field\":\"segment_color\"},\"line_width\":{\"type\":\"value\",\"value\":18}}},\"nonselection_glyph\":{\"type\":\"object\",\"name\":\"Segment\",\"id\":\"p1055\",\"attributes\":{\"x0\":{\"type\":\"field\",\"field\":\"segment_start_proba\"},\"y0\":{\"type\":\"field\",\"field\":\"name\"},\"x1\":{\"type\":\"field\",\"field\":\"segment_end_proba\"},\"y1\":{\"type\":\"field\",\"field\":\"name\"},\"line_color\":{\"type\":\"field\",\"field\":\"segment_color\"},\"line_alpha\":{\"type\":\"value\",\"value\":0.1},\"line_width\":{\"type\":\"value\",\"value\":18}}},\"muted_glyph\":{\"type\":\"object\",\"name\":\"Segment\",\"id\":\"p1056\",\"attributes\":{\"x0\":{\"type\":\"field\",\"field\":\"segment_start_proba\"},\"y0\":{\"type\":\"field\",\"field\":\"name\"},\"x1\":{\"type\":\"field\",\"field\":\"segment_end_proba\"},\"y1\":{\"type\":\"field\",\"field\":\"name\"},\"line_color\":{\"type\":\"field\",\"field\":\"segment_color\"},\"line_alpha\":{\"type\":\"value\",\"value\":0.2},\"line_width\":{\"type\":\"value\",\"value\":18}}}}},{\"type\":\"object\",\"name\":\"GlyphRenderer\",\"id\":\"p1066\",\"attributes\":{\"data_source\":{\"id\":\"p1001\"},\"view\":{\"type\":\"object\",\"name\":\"CDSView\",\"id\":\"p1067\",\"attributes\":{\"filter\":{\"type\":\"object\",\"name\":\"AllIndices\",\"id\":\"p1068\"}}},\"glyph\":{\"type\":\"object\",\"name\":\"Scatter\",\"id\":\"p1063\",\"attributes\":{\"x\":{\"type\":\"field\",\"field\":\"segment_end_proba\"},\"y\":{\"type\":\"field\",\"field\":\"name\"},\"size\":{\"type\":\"value\",\"value\":16},\"line_color\":{\"type\":\"field\",\"field\":\"segment_color\"},\"fill_color\":{\"type\":\"field\",\"field\":\"segment_color\"},\"marker\":{\"type\":\"value\",\"value\":\"diamond\"}}},\"nonselection_glyph\":{\"type\":\"object\",\"name\":\"Scatter\",\"id\":\"p1064\",\"attributes\":{\"x\":{\"type\":\"field\",\"field\":\"segment_end_proba\"},\"y\":{\"type\":\"field\",\"field\":\"name\"},\"size\":{\"type\":\"value\",\"value\":16},\"line_color\":{\"type\":\"field\",\"field\":\"segment_color\"},\"line_alpha\":{\"type\":\"value\",\"value\":0.1},\"fill_color\":{\"type\":\"field\",\"field\":\"segment_color\"},\"fill_alpha\":{\"type\":\"value\",\"value\":0.1},\"hatch_alpha\":{\"type\":\"value\",\"value\":0.1},\"marker\":{\"type\":\"value\",\"value\":\"diamond\"}}},\"muted_glyph\":{\"type\":\"object\",\"name\":\"Scatter\",\"id\":\"p1065\",\"attributes\":{\"x\":{\"type\":\"field\",\"field\":\"segment_end_proba\"},\"y\":{\"type\":\"field\",\"field\":\"name\"},\"size\":{\"type\":\"value\",\"value\":16},\"line_color\":{\"type\":\"field\",\"field\":\"segment_color\"},\"line_alpha\":{\"type\":\"value\",\"value\":0.2},\"fill_color\":{\"type\":\"field\",\"field\":\"segment_color\"},\"fill_alpha\":{\"type\":\"value\",\"value\":0.2},\"hatch_alpha\":{\"type\":\"value\",\"value\":0.2},\"marker\":{\"type\":\"value\",\"value\":\"diamond\"}}}}},{\"type\":\"object\",\"name\":\"GlyphRenderer\",\"id\":\"p1075\",\"attributes\":{\"data_source\":{\"id\":\"p1001\"},\"view\":{\"type\":\"object\",\"name\":\"CDSView\",\"id\":\"p1076\",\"attributes\":{\"filter\":{\"type\":\"object\",\"name\":\"AllIndices\",\"id\":\"p1077\"}}},\"glyph\":{\"type\":\"object\",\"name\":\"Scatter\",\"id\":\"p1072\",\"attributes\":{\"x\":{\"type\":\"field\",\"field\":\"segment_start_proba\"},\"y\":{\"type\":\"field\",\"field\":\"name\"},\"size\":{\"type\":\"value\",\"value\":16},\"line_color\":{\"type\":\"value\",\"value\":\"white\"},\"fill_color\":{\"type\":\"value\",\"value\":\"white\"},\"marker\":{\"type\":\"value\",\"value\":\"diamond\"}}},\"nonselection_glyph\":{\"type\":\"object\",\"name\":\"Scatter\",\"id\":\"p1073\",\"attributes\":{\"x\":{\"type\":\"field\",\"field\":\"segment_start_proba\"},\"y\":{\"type\":\"field\",\"field\":\"name\"},\"size\":{\"type\":\"value\",\"value\":16},\"line_color\":{\"type\":\"value\",\"value\":\"white\"},\"line_alpha\":{\"type\":\"value\",\"value\":0.1},\"fill_color\":{\"type\":\"value\",\"value\":\"white\"},\"fill_alpha\":{\"type\":\"value\",\"value\":0.1},\"hatch_alpha\":{\"type\":\"value\",\"value\":0.1},\"marker\":{\"type\":\"value\",\"value\":\"diamond\"}}},\"muted_glyph\":{\"type\":\"object\",\"name\":\"Scatter\",\"id\":\"p1074\",\"attributes\":{\"x\":{\"type\":\"field\",\"field\":\"segment_start_proba\"},\"y\":{\"type\":\"field\",\"field\":\"name\"},\"size\":{\"type\":\"value\",\"value\":16},\"line_color\":{\"type\":\"value\",\"value\":\"white\"},\"line_alpha\":{\"type\":\"value\",\"value\":0.2},\"fill_color\":{\"type\":\"value\",\"value\":\"white\"},\"fill_alpha\":{\"type\":\"value\",\"value\":0.2},\"hatch_alpha\":{\"type\":\"value\",\"value\":0.2},\"marker\":{\"type\":\"value\",\"value\":\"diamond\"}}}}}],\"toolbar\":{\"type\":\"object\",\"name\":\"Toolbar\",\"id\":\"p1011\",\"attributes\":{\"tools\":[{\"type\":\"object\",\"name\":\"HoverTool\",\"id\":\"p1034\",\"attributes\":{\"renderers\":\"auto\",\"tooltips\":[[\"name\",\"@name\"],[\"description\",\"@description\"]]}}]}},\"toolbar_location\":null,\"right\":[{\"type\":\"object\",\"name\":\"CategoricalAxis\",\"id\":\"p1028\",\"attributes\":{\"ticker\":{\"type\":\"object\",\"name\":\"CategoricalTicker\",\"id\":\"p1030\"},\"formatter\":{\"type\":\"object\",\"name\":\"CategoricalTickFormatter\",\"id\":\"p1031\"},\"major_label_policy\":{\"type\":\"object\",\"name\":\"AllLabels\",\"id\":\"p1029\"},\"major_label_text_font_size\":\"10pt\",\"axis_line_color\":\"white\"}}],\"above\":[{\"type\":\"object\",\"name\":\"LogAxis\",\"id\":\"p1041\",\"attributes\":{\"x_range_name\":\"probability\",\"ticker\":{\"type\":\"object\",\"name\":\"LogTicker\",\"id\":\"p1043\",\"attributes\":{\"desired_num_ticks\":7,\"mantissas\":[1,5]}},\"formatter\":{\"type\":\"object\",\"name\":\"NumeralTickFormatter\",\"id\":\"p1037\",\"attributes\":{\"format\":\"0.0 %\"}},\"axis_label_text_font_size\":\"10pt\",\"major_label_policy\":{\"type\":\"object\",\"name\":\"AllLabels\",\"id\":\"p1042\"},\"axis_line_color\":\"white\"}},{\"type\":\"object\",\"name\":\"Title\",\"id\":\"p1050\",\"attributes\":{\"text\":\"16.06% predicted\",\"text_color\":\"#69AE35\",\"text_font_size\":\"10pt\",\"text_font_style\":\"italic\",\"offset\":77.40921247163966}},{\"type\":\"object\",\"name\":\"Title\",\"id\":\"p1078\",\"attributes\":{\"text\":\"Credit Default Risk Score (%)\",\"text_font_size\":\"10pt\",\"align\":\"center\"}}],\"below\":[{\"type\":\"object\",\"name\":\"LogAxis\",\"id\":\"p1021\",\"attributes\":{\"ticker\":{\"type\":\"object\",\"name\":\"LogTicker\",\"id\":\"p1023\",\"attributes\":{\"num_minor_ticks\":10,\"desired_num_ticks\":7,\"mantissas\":[1,5]}},\"formatter\":{\"id\":\"p1037\"},\"axis_label_text_font_size\":\"10pt\",\"major_label_policy\":{\"type\":\"object\",\"name\":\"AllLabels\",\"id\":\"p1022\"},\"axis_line_color\":\"white\"}},{\"type\":\"object\",\"name\":\"Title\",\"id\":\"p1048\",\"attributes\":{\"text\":\"27.82% baseline\",\"text_color\":\"grey\",\"text_font_size\":\"10pt\",\"text_font_style\":\"italic\",\"offset\":450.0}}],\"center\":[{\"type\":\"object\",\"name\":\"Grid\",\"id\":\"p1027\",\"attributes\":{\"axis\":{\"id\":\"p1021\"}}},{\"type\":\"object\",\"name\":\"Grid\",\"id\":\"p1033\",\"attributes\":{\"dimension\":1,\"axis\":{\"id\":\"p1028\"}}},{\"type\":\"object\",\"name\":\"Span\",\"id\":\"p1047\",\"attributes\":{\"level\":\"underlay\",\"location\":0.2782297417488657,\"dimension\":\"height\",\"line_color\":\"grey\",\"line_dash\":[2,4]}},{\"type\":\"object\",\"name\":\"Span\",\"id\":\"p1049\",\"attributes\":{\"level\":\"underlay\",\"location\":0.16055879767242892,\"dimension\":\"height\",\"line_color\":\"#69AE35\",\"line_dash\":[2,4]}}],\"frame_width\":500,\"frame_height\":150}}],\"callbacks\":{\"type\":\"map\"}}};\n",
       "  const render_items = [{\"docid\":\"73b6079d-11a1-4661-96a5-6c8098c01486\",\"roots\":{\"p1004\":\"a1e8df3c-5917-42f7-a078-267f373e440d\"},\"root_ids\":[\"p1004\"]}];\n",
       "  root.Bokeh.embed.embed_items_notebook(docs_json, render_items);\n",
       "  }\n",
       "  if (root.Bokeh !== undefined) {\n",
       "    embed_document(root);\n",
       "  } else {\n",
       "    let attempts = 0;\n",
       "    const timer = setInterval(function(root) {\n",
       "      if (root.Bokeh !== undefined) {\n",
       "        clearInterval(timer);\n",
       "        embed_document(root);\n",
       "      } else {\n",
       "        attempts++;\n",
       "        if (attempts > 100) {\n",
       "          clearInterval(timer);\n",
       "          console.log(\"Bokeh: ERROR: Unable to run BokehJS code because BokehJS library is missing\");\n",
       "        }\n",
       "      }\n",
       "    }, 10, root)\n",
       "  }\n",
       "})(window);"
      ],
      "application/vnd.bokehjs_exec.v0+json": ""
     },
     "metadata": {
      "application/vnd.bokehjs_exec.v0+json": {
       "id": "p1004"
      }
     },
     "output_type": "display_data"
    }
   ],
   "source": [
    "x_axis_label = 'Credit Default Risk Score (%)'\n",
    "summary_waterfall = visuals.WaterfallChart(\n",
    "    baseline=explanation_summary['expected_value'],\n",
    "    shap_values=explanation_summary['shap_values'],\n",
    "    names=explanation_summary['feature_names'],\n",
    "    descriptions=explanation_summary['feature_descriptions'],\n",
    "    max_features=10,\n",
    "    x_axis_label=x_axis_label,\n",
    ")\n",
    "summary_waterfall.show()"
   ]
  },
  {
   "cell_type": "markdown",
   "id": "a7eefc6a",
   "metadata": {},
   "source": [
    "We can see from the summary waterfall chart above that features related\n",
    "to finance have the largest combined effect on the credit default risk.\n",
    "Although features realted to finance reduce the credit default risk, the\n",
    "features related to employment bring the risk back up again to a certain\n",
    "degree."
   ]
  },
  {
   "cell_type": "markdown",
   "id": "b422678c",
   "metadata": {},
   "source": [
    "### Detailed Explanation\n",
    "After examining the high level explanation, we can drill down into the\n",
    "individual features that contribute to the credit default risk score."
   ]
  },
  {
   "cell_type": "code",
   "execution_count": 16,
   "id": "a30f7c00",
   "metadata": {
    "tags": [],
    "vscode": {
     "languageId": "python"
    }
   },
   "outputs": [],
   "source": [
    "explanation = visuals.detailed_explanation(output)"
   ]
  },
  {
   "cell_type": "code",
   "execution_count": 17,
   "id": "35bb51f8",
   "metadata": {
    "tags": [],
    "vscode": {
     "languageId": "python"
    }
   },
   "outputs": [
    {
     "data": {
      "text/html": [
       "\n",
       "  <div id=\"cdd327d1-c163-44fd-87de-580bcd379d4b\" data-root-id=\"p1205\" style=\"display: contents;\"></div>\n"
      ]
     },
     "metadata": {},
     "output_type": "display_data"
    },
    {
     "data": {
      "application/javascript": [
       "(function(root) {\n",
       "  function embed_document(root) {\n",
       "  const docs_json = {\"f51da8b7-1e25-4b27-9800-2546c6254aad\":{\"version\":\"3.1.1\",\"title\":\"Bokeh Application\",\"defs\":[],\"roots\":[{\"type\":\"object\",\"name\":\"Figure\",\"id\":\"p1205\",\"attributes\":{\"x_range\":{\"type\":\"object\",\"name\":\"Range1d\",\"id\":\"p1239\",\"attributes\":{\"start\":0.10446922499350483,\"end\":0.30566760355822115}},\"y_range\":{\"type\":\"object\",\"name\":\"FactorRange\",\"id\":\"p1216\",\"attributes\":{\"factors\":[\"finance__accounts__checking__balance__no_account = 1.0\",\"credit__purpose__used_car = 1.0\",\"credit__duration = 36.0\",\"employment__duration = 0.0\",\"finance__accounts__savings__balance__low = 1.0\",\"finance__credits__other_banks = 0.0\",\"finance__accounts__checking__balance__negative = 0.0\",\"finance__repayment_history__very_poor = 0.0\",\"credit__amount = 6000.0\",\"credit__purpose__new_car = 0.0\",\"other_features\"]}},\"x_scale\":{\"type\":\"object\",\"name\":\"LogScale\",\"id\":\"p1218\"},\"y_scale\":{\"type\":\"object\",\"name\":\"CategoricalScale\",\"id\":\"p1220\"},\"extra_x_ranges\":{\"type\":\"map\",\"entries\":[[\"probability\",{\"id\":\"p1239\"}]]},\"title\":{\"type\":\"object\",\"name\":\"Title\",\"id\":\"p1211\"},\"renderers\":[{\"type\":\"object\",\"name\":\"GlyphRenderer\",\"id\":\"p1258\",\"attributes\":{\"data_source\":{\"type\":\"object\",\"name\":\"ColumnDataSource\",\"id\":\"p1202\",\"attributes\":{\"selected\":{\"type\":\"object\",\"name\":\"Selection\",\"id\":\"p1203\",\"attributes\":{\"indices\":[],\"line_indices\":[]}},\"selection_policy\":{\"type\":\"object\",\"name\":\"UnionRenderers\",\"id\":\"p1204\"},\"data\":{\"type\":\"map\",\"entries\":[[\"shap_value\",{\"type\":\"ndarray\",\"array\":{\"type\":\"bytes\",\"data\":\"4vv23H4T6L/L5dfDTtjTv6O5zUph19M/96AcBW0ywT9YipxTCIyzP4jDBr6iiLG/MFHE6JRnsb8gICLT4iqtP2xL1u4L1am/H2Qfi4P6o79qfdj5EkWEPw==\"},\"shape\":[11],\"dtype\":\"float64\",\"order\":\"little\"}],[\"name\",[\"finance__accounts__checking__balance__no_account = 1.0\",\"credit__purpose__used_car = 1.0\",\"credit__duration = 36.0\",\"employment__duration = 0.0\",\"finance__accounts__savings__balance__low = 1.0\",\"finance__credits__other_banks = 0.0\",\"finance__accounts__checking__balance__negative = 0.0\",\"finance__repayment_history__very_poor = 0.0\",\"credit__amount = 6000.0\",\"credit__purpose__new_car = 0.0\",\"other_features\"]],[\"segment_color\",[\"#69AE35\",\"#69AE35\",\"#FF5733\",\"#FF5733\",\"#FF5733\",\"#69AE35\",\"#69AE35\",\"#FF5733\",\"#69AE35\",\"#69AE35\",\"#FF5733\"]],[\"segment_start_proba\",{\"type\":\"ndarray\",\"array\":{\"type\":\"bytes\",\"data\":\"dH9lHoTO0T+yT3Pqba3DP0jagxyVGL4/Le/AIDCtwz88n6hX6ATGP+Rg0To/csc/HEDv9bQpxj+nK4dwz/HEP3LgGxAz9sU/JM90XhYPxT/Idy1EoGHEPw==\"},\"shape\":[11],\"dtype\":\"float64\",\"order\":\"little\"}],[\"segment_end_proba\",{\"type\":\"ndarray\",\"array\":{\"type\":\"bytes\",\"data\":\"sk9z6m2twz9I2oMclRi+Py3vwCAwrcM/PJ+oV+gExj/kYNE6P3LHPxxA7/W0KcY/pyuHcM/xxD9y4BsQM/bFPyXPdF4WD8U/xnctRKBhxD/uSIvQMI3EPw==\"},\"shape\":[11],\"dtype\":\"float64\",\"order\":\"little\"}],[\"descriptions\",[\"Customer's checking account balance is 'no_account' if value is 1.0.\",\"Customer's reason for requiring credit is 'used_car' if value is 1.0.\",\"Amount of time the credit is requested for (in months).\",\"Amount of time the customer has been employed at their current employer (in years).\",\"Customer's savings account balance is 'low' if value is 1.0.\",\"Count of credits the customer has at other banks.\",\"Customer's checking account balance is 'negative' if value is 1.0.\",\"Quality of the customer's repayment history is 'very_poor' if value is 1.0.\",\"Amount of money requested as part of credit application (in EUR).\",\"Customer's reason for requiring credit is 'new_car' if value is 1.0.\",\"All other features combined.\"]]]}}},\"view\":{\"type\":\"object\",\"name\":\"CDSView\",\"id\":\"p1259\",\"attributes\":{\"filter\":{\"type\":\"object\",\"name\":\"AllIndices\",\"id\":\"p1260\"}}},\"glyph\":{\"type\":\"object\",\"name\":\"Segment\",\"id\":\"p1255\",\"attributes\":{\"x0\":{\"type\":\"field\",\"field\":\"segment_start_proba\"},\"y0\":{\"type\":\"field\",\"field\":\"name\"},\"x1\":{\"type\":\"field\",\"field\":\"segment_end_proba\"},\"y1\":{\"type\":\"field\",\"field\":\"name\"},\"line_color\":{\"type\":\"field\",\"field\":\"segment_color\"},\"line_width\":{\"type\":\"value\",\"value\":18}}},\"nonselection_glyph\":{\"type\":\"object\",\"name\":\"Segment\",\"id\":\"p1256\",\"attributes\":{\"x0\":{\"type\":\"field\",\"field\":\"segment_start_proba\"},\"y0\":{\"type\":\"field\",\"field\":\"name\"},\"x1\":{\"type\":\"field\",\"field\":\"segment_end_proba\"},\"y1\":{\"type\":\"field\",\"field\":\"name\"},\"line_color\":{\"type\":\"field\",\"field\":\"segment_color\"},\"line_alpha\":{\"type\":\"value\",\"value\":0.1},\"line_width\":{\"type\":\"value\",\"value\":18}}},\"muted_glyph\":{\"type\":\"object\",\"name\":\"Segment\",\"id\":\"p1257\",\"attributes\":{\"x0\":{\"type\":\"field\",\"field\":\"segment_start_proba\"},\"y0\":{\"type\":\"field\",\"field\":\"name\"},\"x1\":{\"type\":\"field\",\"field\":\"segment_end_proba\"},\"y1\":{\"type\":\"field\",\"field\":\"name\"},\"line_color\":{\"type\":\"field\",\"field\":\"segment_color\"},\"line_alpha\":{\"type\":\"value\",\"value\":0.2},\"line_width\":{\"type\":\"value\",\"value\":18}}}}},{\"type\":\"object\",\"name\":\"GlyphRenderer\",\"id\":\"p1267\",\"attributes\":{\"data_source\":{\"id\":\"p1202\"},\"view\":{\"type\":\"object\",\"name\":\"CDSView\",\"id\":\"p1268\",\"attributes\":{\"filter\":{\"type\":\"object\",\"name\":\"AllIndices\",\"id\":\"p1269\"}}},\"glyph\":{\"type\":\"object\",\"name\":\"Scatter\",\"id\":\"p1264\",\"attributes\":{\"x\":{\"type\":\"field\",\"field\":\"segment_end_proba\"},\"y\":{\"type\":\"field\",\"field\":\"name\"},\"size\":{\"type\":\"value\",\"value\":16},\"line_color\":{\"type\":\"field\",\"field\":\"segment_color\"},\"fill_color\":{\"type\":\"field\",\"field\":\"segment_color\"},\"marker\":{\"type\":\"value\",\"value\":\"diamond\"}}},\"nonselection_glyph\":{\"type\":\"object\",\"name\":\"Scatter\",\"id\":\"p1265\",\"attributes\":{\"x\":{\"type\":\"field\",\"field\":\"segment_end_proba\"},\"y\":{\"type\":\"field\",\"field\":\"name\"},\"size\":{\"type\":\"value\",\"value\":16},\"line_color\":{\"type\":\"field\",\"field\":\"segment_color\"},\"line_alpha\":{\"type\":\"value\",\"value\":0.1},\"fill_color\":{\"type\":\"field\",\"field\":\"segment_color\"},\"fill_alpha\":{\"type\":\"value\",\"value\":0.1},\"hatch_alpha\":{\"type\":\"value\",\"value\":0.1},\"marker\":{\"type\":\"value\",\"value\":\"diamond\"}}},\"muted_glyph\":{\"type\":\"object\",\"name\":\"Scatter\",\"id\":\"p1266\",\"attributes\":{\"x\":{\"type\":\"field\",\"field\":\"segment_end_proba\"},\"y\":{\"type\":\"field\",\"field\":\"name\"},\"size\":{\"type\":\"value\",\"value\":16},\"line_color\":{\"type\":\"field\",\"field\":\"segment_color\"},\"line_alpha\":{\"type\":\"value\",\"value\":0.2},\"fill_color\":{\"type\":\"field\",\"field\":\"segment_color\"},\"fill_alpha\":{\"type\":\"value\",\"value\":0.2},\"hatch_alpha\":{\"type\":\"value\",\"value\":0.2},\"marker\":{\"type\":\"value\",\"value\":\"diamond\"}}}}},{\"type\":\"object\",\"name\":\"GlyphRenderer\",\"id\":\"p1276\",\"attributes\":{\"data_source\":{\"id\":\"p1202\"},\"view\":{\"type\":\"object\",\"name\":\"CDSView\",\"id\":\"p1277\",\"attributes\":{\"filter\":{\"type\":\"object\",\"name\":\"AllIndices\",\"id\":\"p1278\"}}},\"glyph\":{\"type\":\"object\",\"name\":\"Scatter\",\"id\":\"p1273\",\"attributes\":{\"x\":{\"type\":\"field\",\"field\":\"segment_start_proba\"},\"y\":{\"type\":\"field\",\"field\":\"name\"},\"size\":{\"type\":\"value\",\"value\":16},\"line_color\":{\"type\":\"value\",\"value\":\"white\"},\"fill_color\":{\"type\":\"value\",\"value\":\"white\"},\"marker\":{\"type\":\"value\",\"value\":\"diamond\"}}},\"nonselection_glyph\":{\"type\":\"object\",\"name\":\"Scatter\",\"id\":\"p1274\",\"attributes\":{\"x\":{\"type\":\"field\",\"field\":\"segment_start_proba\"},\"y\":{\"type\":\"field\",\"field\":\"name\"},\"size\":{\"type\":\"value\",\"value\":16},\"line_color\":{\"type\":\"value\",\"value\":\"white\"},\"line_alpha\":{\"type\":\"value\",\"value\":0.1},\"fill_color\":{\"type\":\"value\",\"value\":\"white\"},\"fill_alpha\":{\"type\":\"value\",\"value\":0.1},\"hatch_alpha\":{\"type\":\"value\",\"value\":0.1},\"marker\":{\"type\":\"value\",\"value\":\"diamond\"}}},\"muted_glyph\":{\"type\":\"object\",\"name\":\"Scatter\",\"id\":\"p1275\",\"attributes\":{\"x\":{\"type\":\"field\",\"field\":\"segment_start_proba\"},\"y\":{\"type\":\"field\",\"field\":\"name\"},\"size\":{\"type\":\"value\",\"value\":16},\"line_color\":{\"type\":\"value\",\"value\":\"white\"},\"line_alpha\":{\"type\":\"value\",\"value\":0.2},\"fill_color\":{\"type\":\"value\",\"value\":\"white\"},\"fill_alpha\":{\"type\":\"value\",\"value\":0.2},\"hatch_alpha\":{\"type\":\"value\",\"value\":0.2},\"marker\":{\"type\":\"value\",\"value\":\"diamond\"}}}}}],\"toolbar\":{\"type\":\"object\",\"name\":\"Toolbar\",\"id\":\"p1212\",\"attributes\":{\"tools\":[{\"type\":\"object\",\"name\":\"HoverTool\",\"id\":\"p1235\",\"attributes\":{\"renderers\":\"auto\",\"tooltips\":[[\"name\",\"@name\"],[\"description\",\"@description\"]]}}]}},\"toolbar_location\":null,\"right\":[{\"type\":\"object\",\"name\":\"CategoricalAxis\",\"id\":\"p1229\",\"attributes\":{\"ticker\":{\"type\":\"object\",\"name\":\"CategoricalTicker\",\"id\":\"p1231\"},\"formatter\":{\"type\":\"object\",\"name\":\"CategoricalTickFormatter\",\"id\":\"p1232\"},\"major_label_policy\":{\"type\":\"object\",\"name\":\"AllLabels\",\"id\":\"p1230\"},\"major_label_text_font_size\":\"10pt\",\"axis_line_color\":\"white\"}}],\"above\":[{\"type\":\"object\",\"name\":\"LogAxis\",\"id\":\"p1242\",\"attributes\":{\"x_range_name\":\"probability\",\"ticker\":{\"type\":\"object\",\"name\":\"LogTicker\",\"id\":\"p1244\",\"attributes\":{\"desired_num_ticks\":7,\"mantissas\":[1,5]}},\"formatter\":{\"type\":\"object\",\"name\":\"NumeralTickFormatter\",\"id\":\"p1238\",\"attributes\":{\"format\":\"0.0 %\"}},\"axis_label_text_font_size\":\"10pt\",\"major_label_policy\":{\"type\":\"object\",\"name\":\"AllLabels\",\"id\":\"p1243\"},\"axis_line_color\":\"white\"}},{\"type\":\"object\",\"name\":\"Title\",\"id\":\"p1251\",\"attributes\":{\"text\":\"16.06% predicted\",\"text_color\":\"#69AE35\",\"text_font_size\":\"10pt\",\"text_font_style\":\"italic\",\"offset\":186.15256670060504}},{\"type\":\"object\",\"name\":\"Title\",\"id\":\"p1279\",\"attributes\":{\"text\":\"Credit Default Risk Score (%)\",\"text_font_size\":\"10pt\",\"align\":\"center\"}}],\"below\":[{\"type\":\"object\",\"name\":\"LogAxis\",\"id\":\"p1222\",\"attributes\":{\"ticker\":{\"type\":\"object\",\"name\":\"LogTicker\",\"id\":\"p1224\",\"attributes\":{\"num_minor_ticks\":10,\"desired_num_ticks\":7,\"mantissas\":[1,5]}},\"formatter\":{\"id\":\"p1238\"},\"axis_label_text_font_size\":\"10pt\",\"major_label_policy\":{\"type\":\"object\",\"name\":\"AllLabels\",\"id\":\"p1223\"},\"axis_line_color\":\"white\"}},{\"type\":\"object\",\"name\":\"Title\",\"id\":\"p1249\",\"attributes\":{\"text\":\"27.82% baseline\",\"text_color\":\"grey\",\"text_font_size\":\"10pt\",\"text_font_style\":\"italic\",\"offset\":450.0}}],\"center\":[{\"type\":\"object\",\"name\":\"Grid\",\"id\":\"p1228\",\"attributes\":{\"axis\":{\"id\":\"p1222\"}}},{\"type\":\"object\",\"name\":\"Grid\",\"id\":\"p1234\",\"attributes\":{\"dimension\":1,\"axis\":{\"id\":\"p1229\"}}},{\"type\":\"object\",\"name\":\"Span\",\"id\":\"p1248\",\"attributes\":{\"level\":\"underlay\",\"location\":0.2782297417488657,\"dimension\":\"height\",\"line_color\":\"grey\",\"line_dash\":[2,4]}},{\"type\":\"object\",\"name\":\"Span\",\"id\":\"p1250\",\"attributes\":{\"level\":\"underlay\",\"location\":0.16055879767242892,\"dimension\":\"height\",\"line_color\":\"#69AE35\",\"line_dash\":[2,4]}}],\"frame_width\":500,\"frame_height\":275}}],\"callbacks\":{\"type\":\"map\"}}};\n",
       "  const render_items = [{\"docid\":\"f51da8b7-1e25-4b27-9800-2546c6254aad\",\"roots\":{\"p1205\":\"cdd327d1-c163-44fd-87de-580bcd379d4b\"},\"root_ids\":[\"p1205\"]}];\n",
       "  root.Bokeh.embed.embed_items_notebook(docs_json, render_items);\n",
       "  }\n",
       "  if (root.Bokeh !== undefined) {\n",
       "    embed_document(root);\n",
       "  } else {\n",
       "    let attempts = 0;\n",
       "    const timer = setInterval(function(root) {\n",
       "      if (root.Bokeh !== undefined) {\n",
       "        clearInterval(timer);\n",
       "        embed_document(root);\n",
       "      } else {\n",
       "        attempts++;\n",
       "        if (attempts > 100) {\n",
       "          clearInterval(timer);\n",
       "          console.log(\"Bokeh: ERROR: Unable to run BokehJS code because BokehJS library is missing\");\n",
       "        }\n",
       "      }\n",
       "    }, 10, root)\n",
       "  }\n",
       "})(window);"
      ],
      "application/vnd.bokehjs_exec.v0+json": ""
     },
     "metadata": {
      "application/vnd.bokehjs_exec.v0+json": {
       "id": "p1205"
      }
     },
     "output_type": "display_data"
    }
   ],
   "source": [
    "detailed_waterfall = visuals.WaterfallChart(\n",
    "    baseline=explanation['expected_value'],\n",
    "    shap_values=explanation['shap_values'],\n",
    "    names=explanation['feature_names'],\n",
    "    feature_values=explanation['feature_values'],\n",
    "    descriptions=explanation['feature_descriptions'],\n",
    "    max_features=10,\n",
    "    x_axis_label=x_axis_label\n",
    ")\n",
    "detailed_waterfall.show()"
   ]
  },
  {
   "cell_type": "markdown",
   "id": "1c62747e",
   "metadata": {},
   "source": [
    "We can see from the detailed waterfall chart above that not having a\n",
    "checking account with the same bank indicates a lower credit default\n",
    "risk. Since this is an influential feature for the model but the reason\n",
    "for this effect is not obvious, it may warrant further investigation. We\n",
    "can also see that using the credit to purchase a used car is associated\n",
    "with a lower credit default risk too. After this we see a number of\n",
    "features that increase the credit default risk: a credit amount of 6000\n",
    "EUR, a lack of employment and a credit duration of 36 months. Another\n",
    "potential area for investigation, would be related to the repayment\n",
    "history feature. We can see that *not* having a very poor repayment\n",
    "history is associated with a higher credit default risk score. We may\n",
    "have artifacts in the datasets that caused the model to use this feature\n",
    "in such an unintuitive way."
   ]
  },
  {
   "cell_type": "markdown",
   "id": "cbf5abd0",
   "metadata": {},
   "source": [
    "### Counterfactual Example\n",
    "And lastly, we switch the value of the checking account balance of the\n",
    "applicant from `no_account` to `negative`. We can then see how the\n",
    "overall prediction of the model changes, and also see the updated\n",
    "contribution of this feature. Clearly, this application has become\n",
    "substantially more risky."
   ]
  },
  {
   "cell_type": "code",
   "execution_count": 18,
   "id": "15e4dfd6",
   "metadata": {
    "tags": [],
    "vscode": {
     "languageId": "python"
    }
   },
   "outputs": [
    {
     "data": {
      "text/html": [
       "\n",
       "  <div id=\"dce9dd77-dd4c-489a-bc72-fc99832aa565\" data-root-id=\"p1426\" style=\"display: contents;\"></div>\n"
      ]
     },
     "metadata": {},
     "output_type": "display_data"
    },
    {
     "data": {
      "application/javascript": [
       "(function(root) {\n",
       "  function embed_document(root) {\n",
       "  const docs_json = {\"2cb4abfc-abaa-42ad-9784-3ac34d960bf5\":{\"version\":\"3.1.1\",\"title\":\"Bokeh Application\",\"defs\":[],\"roots\":[{\"type\":\"object\",\"name\":\"Figure\",\"id\":\"p1426\",\"attributes\":{\"x_range\":{\"type\":\"object\",\"name\":\"Range1d\",\"id\":\"p1460\",\"attributes\":{\"start\":0.2539776731958833,\"end\":0.5411530544750696}},\"y_range\":{\"type\":\"object\",\"name\":\"FactorRange\",\"id\":\"p1437\",\"attributes\":{\"factors\":[\"credit__duration = 36.0\",\"finance__accounts__checking__balance__no_account = 0.0\",\"credit__purpose__used_car = 1.0\",\"finance__accounts__checking__balance__negative = 1.0\",\"finance__repayment_history__very_poor = 0.0\",\"finance__accounts__savings__balance__low = 1.0\",\"credit__amount = 6000.0\",\"employment__duration = 0.0\",\"credit__purpose__new_car = 0.0\",\"finance__other_assets__none = 0.0\",\"other_features\"]}},\"x_scale\":{\"type\":\"object\",\"name\":\"LogScale\",\"id\":\"p1439\"},\"y_scale\":{\"type\":\"object\",\"name\":\"CategoricalScale\",\"id\":\"p1441\"},\"extra_x_ranges\":{\"type\":\"map\",\"entries\":[[\"probability\",{\"id\":\"p1460\"}]]},\"title\":{\"type\":\"object\",\"name\":\"Title\",\"id\":\"p1432\"},\"renderers\":[{\"type\":\"object\",\"name\":\"GlyphRenderer\",\"id\":\"p1479\",\"attributes\":{\"data_source\":{\"type\":\"object\",\"name\":\"ColumnDataSource\",\"id\":\"p1423\",\"attributes\":{\"selected\":{\"type\":\"object\",\"name\":\"Selection\",\"id\":\"p1424\",\"attributes\":{\"indices\":[],\"line_indices\":[]}},\"selection_policy\":{\"type\":\"object\",\"name\":\"UnionRenderers\",\"id\":\"p1425\"},\"data\":{\"type\":\"map\",\"entries\":[[\"shap_value\",{\"type\":\"ndarray\",\"array\":{\"type\":\"bytes\",\"data\":\"gjiWaEYF4D+2j/nJSA/fP8vl18NO2NO/8YQyr5FBxD+o9rZWOWG1P1iKnFMIjLM/MWgjUpUssb/aAuPRWBOxP04YQDIIaKm/NkcPOLmpmL/AS4Do3y48Pw==\"},\"shape\":[11],\"dtype\":\"float64\",\"order\":\"little\"}],[\"name\",[\"credit__duration = 36.0\",\"finance__accounts__checking__balance__no_account = 0.0\",\"credit__purpose__used_car = 1.0\",\"finance__accounts__checking__balance__negative = 1.0\",\"finance__repayment_history__very_poor = 0.0\",\"finance__accounts__savings__balance__low = 1.0\",\"credit__amount = 6000.0\",\"employment__duration = 0.0\",\"credit__purpose__new_car = 0.0\",\"finance__other_assets__none = 0.0\",\"other_features\"]],[\"segment_color\",[\"#FF5733\",\"#FF5733\",\"#69AE35\",\"#FF5733\",\"#FF5733\",\"#FF5733\",\"#69AE35\",\"#FF5733\",\"#69AE35\",\"#69AE35\",\"#FF5733\"]],[\"segment_start_proba\",{\"type\":\"ndarray\",\"array\":{\"type\":\"bytes\",\"data\":\"dH9lHoTO0T/EE7yhGeHYP3LK24zyQuA/AXk5Lg+X2z8l/6w2mhjeP1hvZjQebt8/nuN2b2pT4D98f/IKE5TfP+ansKCgUuA/l6kPzwba3z9uG3QWY3ffPw==\"},\"shape\":[11],\"dtype\":\"float64\",\"order\":\"little\"}],[\"segment_end_proba\",{\"type\":\"ndarray\",\"array\":{\"type\":\"bytes\",\"data\":\"xBO8oRnh2D9yytuM8kLgPwF5OS4Pl9s/Jf+sNpoY3j9Yb2Y0Hm7fP57jdm9qU+A/fX/yChOU3z/mp7CgoFLgP5epD88G2t8/bht0FmN33z8in8HkJXnfPw==\"},\"shape\":[11],\"dtype\":\"float64\",\"order\":\"little\"}],[\"descriptions\",[\"Amount of time the credit is requested for (in months).\",\"Customer's checking account balance is 'no_account' if value is 1.0.\",\"Customer's reason for requiring credit is 'used_car' if value is 1.0.\",\"Customer's checking account balance is 'negative' if value is 1.0.\",\"Quality of the customer's repayment history is 'very_poor' if value is 1.0.\",\"Customer's savings account balance is 'low' if value is 1.0.\",\"Amount of money requested as part of credit application (in EUR).\",\"Amount of time the customer has been employed at their current employer (in years).\",\"Customer's reason for requiring credit is 'new_car' if value is 1.0.\",\"Customer's most significant asset is 'none' if value is 1.0.\",\"All other features combined.\"]]]}}},\"view\":{\"type\":\"object\",\"name\":\"CDSView\",\"id\":\"p1480\",\"attributes\":{\"filter\":{\"type\":\"object\",\"name\":\"AllIndices\",\"id\":\"p1481\"}}},\"glyph\":{\"type\":\"object\",\"name\":\"Segment\",\"id\":\"p1476\",\"attributes\":{\"x0\":{\"type\":\"field\",\"field\":\"segment_start_proba\"},\"y0\":{\"type\":\"field\",\"field\":\"name\"},\"x1\":{\"type\":\"field\",\"field\":\"segment_end_proba\"},\"y1\":{\"type\":\"field\",\"field\":\"name\"},\"line_color\":{\"type\":\"field\",\"field\":\"segment_color\"},\"line_width\":{\"type\":\"value\",\"value\":18}}},\"nonselection_glyph\":{\"type\":\"object\",\"name\":\"Segment\",\"id\":\"p1477\",\"attributes\":{\"x0\":{\"type\":\"field\",\"field\":\"segment_start_proba\"},\"y0\":{\"type\":\"field\",\"field\":\"name\"},\"x1\":{\"type\":\"field\",\"field\":\"segment_end_proba\"},\"y1\":{\"type\":\"field\",\"field\":\"name\"},\"line_color\":{\"type\":\"field\",\"field\":\"segment_color\"},\"line_alpha\":{\"type\":\"value\",\"value\":0.1},\"line_width\":{\"type\":\"value\",\"value\":18}}},\"muted_glyph\":{\"type\":\"object\",\"name\":\"Segment\",\"id\":\"p1478\",\"attributes\":{\"x0\":{\"type\":\"field\",\"field\":\"segment_start_proba\"},\"y0\":{\"type\":\"field\",\"field\":\"name\"},\"x1\":{\"type\":\"field\",\"field\":\"segment_end_proba\"},\"y1\":{\"type\":\"field\",\"field\":\"name\"},\"line_color\":{\"type\":\"field\",\"field\":\"segment_color\"},\"line_alpha\":{\"type\":\"value\",\"value\":0.2},\"line_width\":{\"type\":\"value\",\"value\":18}}}}},{\"type\":\"object\",\"name\":\"GlyphRenderer\",\"id\":\"p1488\",\"attributes\":{\"data_source\":{\"id\":\"p1423\"},\"view\":{\"type\":\"object\",\"name\":\"CDSView\",\"id\":\"p1489\",\"attributes\":{\"filter\":{\"type\":\"object\",\"name\":\"AllIndices\",\"id\":\"p1490\"}}},\"glyph\":{\"type\":\"object\",\"name\":\"Scatter\",\"id\":\"p1485\",\"attributes\":{\"x\":{\"type\":\"field\",\"field\":\"segment_end_proba\"},\"y\":{\"type\":\"field\",\"field\":\"name\"},\"size\":{\"type\":\"value\",\"value\":16},\"line_color\":{\"type\":\"field\",\"field\":\"segment_color\"},\"fill_color\":{\"type\":\"field\",\"field\":\"segment_color\"},\"marker\":{\"type\":\"value\",\"value\":\"diamond\"}}},\"nonselection_glyph\":{\"type\":\"object\",\"name\":\"Scatter\",\"id\":\"p1486\",\"attributes\":{\"x\":{\"type\":\"field\",\"field\":\"segment_end_proba\"},\"y\":{\"type\":\"field\",\"field\":\"name\"},\"size\":{\"type\":\"value\",\"value\":16},\"line_color\":{\"type\":\"field\",\"field\":\"segment_color\"},\"line_alpha\":{\"type\":\"value\",\"value\":0.1},\"fill_color\":{\"type\":\"field\",\"field\":\"segment_color\"},\"fill_alpha\":{\"type\":\"value\",\"value\":0.1},\"hatch_alpha\":{\"type\":\"value\",\"value\":0.1},\"marker\":{\"type\":\"value\",\"value\":\"diamond\"}}},\"muted_glyph\":{\"type\":\"object\",\"name\":\"Scatter\",\"id\":\"p1487\",\"attributes\":{\"x\":{\"type\":\"field\",\"field\":\"segment_end_proba\"},\"y\":{\"type\":\"field\",\"field\":\"name\"},\"size\":{\"type\":\"value\",\"value\":16},\"line_color\":{\"type\":\"field\",\"field\":\"segment_color\"},\"line_alpha\":{\"type\":\"value\",\"value\":0.2},\"fill_color\":{\"type\":\"field\",\"field\":\"segment_color\"},\"fill_alpha\":{\"type\":\"value\",\"value\":0.2},\"hatch_alpha\":{\"type\":\"value\",\"value\":0.2},\"marker\":{\"type\":\"value\",\"value\":\"diamond\"}}}}},{\"type\":\"object\",\"name\":\"GlyphRenderer\",\"id\":\"p1497\",\"attributes\":{\"data_source\":{\"id\":\"p1423\"},\"view\":{\"type\":\"object\",\"name\":\"CDSView\",\"id\":\"p1498\",\"attributes\":{\"filter\":{\"type\":\"object\",\"name\":\"AllIndices\",\"id\":\"p1499\"}}},\"glyph\":{\"type\":\"object\",\"name\":\"Scatter\",\"id\":\"p1494\",\"attributes\":{\"x\":{\"type\":\"field\",\"field\":\"segment_start_proba\"},\"y\":{\"type\":\"field\",\"field\":\"name\"},\"size\":{\"type\":\"value\",\"value\":16},\"line_color\":{\"type\":\"value\",\"value\":\"white\"},\"fill_color\":{\"type\":\"value\",\"value\":\"white\"},\"marker\":{\"type\":\"value\",\"value\":\"diamond\"}}},\"nonselection_glyph\":{\"type\":\"object\",\"name\":\"Scatter\",\"id\":\"p1495\",\"attributes\":{\"x\":{\"type\":\"field\",\"field\":\"segment_start_proba\"},\"y\":{\"type\":\"field\",\"field\":\"name\"},\"size\":{\"type\":\"value\",\"value\":16},\"line_color\":{\"type\":\"value\",\"value\":\"white\"},\"line_alpha\":{\"type\":\"value\",\"value\":0.1},\"fill_color\":{\"type\":\"value\",\"value\":\"white\"},\"fill_alpha\":{\"type\":\"value\",\"value\":0.1},\"hatch_alpha\":{\"type\":\"value\",\"value\":0.1},\"marker\":{\"type\":\"value\",\"value\":\"diamond\"}}},\"muted_glyph\":{\"type\":\"object\",\"name\":\"Scatter\",\"id\":\"p1496\",\"attributes\":{\"x\":{\"type\":\"field\",\"field\":\"segment_start_proba\"},\"y\":{\"type\":\"field\",\"field\":\"name\"},\"size\":{\"type\":\"value\",\"value\":16},\"line_color\":{\"type\":\"value\",\"value\":\"white\"},\"line_alpha\":{\"type\":\"value\",\"value\":0.2},\"fill_color\":{\"type\":\"value\",\"value\":\"white\"},\"fill_alpha\":{\"type\":\"value\",\"value\":0.2},\"hatch_alpha\":{\"type\":\"value\",\"value\":0.2},\"marker\":{\"type\":\"value\",\"value\":\"diamond\"}}}}}],\"toolbar\":{\"type\":\"object\",\"name\":\"Toolbar\",\"id\":\"p1433\",\"attributes\":{\"tools\":[{\"type\":\"object\",\"name\":\"HoverTool\",\"id\":\"p1456\",\"attributes\":{\"renderers\":\"auto\",\"tooltips\":[[\"name\",\"@name\"],[\"description\",\"@description\"]]}}]}},\"toolbar_location\":null,\"right\":[{\"type\":\"object\",\"name\":\"CategoricalAxis\",\"id\":\"p1450\",\"attributes\":{\"ticker\":{\"type\":\"object\",\"name\":\"CategoricalTicker\",\"id\":\"p1452\"},\"formatter\":{\"type\":\"object\",\"name\":\"CategoricalTickFormatter\",\"id\":\"p1453\"},\"major_label_policy\":{\"type\":\"object\",\"name\":\"AllLabels\",\"id\":\"p1451\"},\"major_label_text_font_size\":\"10pt\",\"axis_line_color\":\"white\"}}],\"above\":[{\"type\":\"object\",\"name\":\"LogAxis\",\"id\":\"p1463\",\"attributes\":{\"x_range_name\":\"probability\",\"ticker\":{\"type\":\"object\",\"name\":\"LogTicker\",\"id\":\"p1465\",\"attributes\":{\"desired_num_ticks\":7,\"mantissas\":[1,5]}},\"formatter\":{\"type\":\"object\",\"name\":\"NumeralTickFormatter\",\"id\":\"p1459\",\"attributes\":{\"format\":\"0.0 %\"}},\"axis_label_text_font_size\":\"10pt\",\"major_label_policy\":{\"type\":\"object\",\"name\":\"AllLabels\",\"id\":\"p1464\"},\"axis_line_color\":\"white\"}},{\"type\":\"object\",\"name\":\"Title\",\"id\":\"p1472\",\"attributes\":{\"text\":\"49.18% predicted\",\"text_color\":\"#FF5733\",\"text_font_size\":\"10pt\",\"text_font_style\":\"italic\",\"offset\":420.3572936321743}},{\"type\":\"object\",\"name\":\"Title\",\"id\":\"p1500\",\"attributes\":{\"text\":\"Credit Default Risk Score (%)\",\"text_font_size\":\"10pt\",\"align\":\"center\"}}],\"below\":[{\"type\":\"object\",\"name\":\"LogAxis\",\"id\":\"p1443\",\"attributes\":{\"ticker\":{\"type\":\"object\",\"name\":\"LogTicker\",\"id\":\"p1445\",\"attributes\":{\"num_minor_ticks\":10,\"desired_num_ticks\":7,\"mantissas\":[1,5]}},\"formatter\":{\"id\":\"p1459\"},\"axis_label_text_font_size\":\"10pt\",\"major_label_policy\":{\"type\":\"object\",\"name\":\"AllLabels\",\"id\":\"p1444\"},\"axis_line_color\":\"white\"}},{\"type\":\"object\",\"name\":\"Title\",\"id\":\"p1470\",\"attributes\":{\"text\":\"27.82% baseline\",\"text_color\":\"grey\",\"text_font_size\":\"10pt\",\"text_font_style\":\"italic\",\"offset\":49.99999999999989}}],\"center\":[{\"type\":\"object\",\"name\":\"Grid\",\"id\":\"p1449\",\"attributes\":{\"axis\":{\"id\":\"p1443\"}}},{\"type\":\"object\",\"name\":\"Grid\",\"id\":\"p1455\",\"attributes\":{\"dimension\":1,\"axis\":{\"id\":\"p1450\"}}},{\"type\":\"object\",\"name\":\"Span\",\"id\":\"p1469\",\"attributes\":{\"level\":\"underlay\",\"location\":0.2782297417488657,\"dimension\":\"height\",\"line_color\":\"grey\",\"line_dash\":[2,4]}},{\"type\":\"object\",\"name\":\"Span\",\"id\":\"p1471\",\"attributes\":{\"level\":\"underlay\",\"location\":0.4917692884396151,\"dimension\":\"height\",\"line_color\":\"#FF5733\",\"line_dash\":[2,4]}}],\"frame_width\":500,\"frame_height\":275}}],\"callbacks\":{\"type\":\"map\"}}};\n",
       "  const render_items = [{\"docid\":\"2cb4abfc-abaa-42ad-9784-3ac34d960bf5\",\"roots\":{\"p1426\":\"dce9dd77-dd4c-489a-bc72-fc99832aa565\"},\"root_ids\":[\"p1426\"]}];\n",
       "  root.Bokeh.embed.embed_items_notebook(docs_json, render_items);\n",
       "  }\n",
       "  if (root.Bokeh !== undefined) {\n",
       "    embed_document(root);\n",
       "  } else {\n",
       "    let attempts = 0;\n",
       "    const timer = setInterval(function(root) {\n",
       "      if (root.Bokeh !== undefined) {\n",
       "        clearInterval(timer);\n",
       "        embed_document(root);\n",
       "      } else {\n",
       "        attempts++;\n",
       "        if (attempts > 100) {\n",
       "          clearInterval(timer);\n",
       "          console.log(\"Bokeh: ERROR: Unable to run BokehJS code because BokehJS library is missing\");\n",
       "        }\n",
       "      }\n",
       "    }, 10, root)\n",
       "  }\n",
       "})(window);"
      ],
      "application/vnd.bokehjs_exec.v0+json": ""
     },
     "metadata": {
      "application/vnd.bokehjs_exec.v0+json": {
       "id": "p1426"
      }
     },
     "output_type": "display_data"
    }
   ],
   "source": [
    "counter_sample = dict(sample)\n",
    "counter_sample['finance__accounts__checking__balance'] = 'negative'  # from 'no_account'\n",
    "counter_output = explainer.predict(counter_sample)\n",
    "counter_explanation = visuals.detailed_explanation(counter_output)\n",
    "visuals.WaterfallChart(\n",
    "    baseline=counter_explanation['expected_value'],\n",
    "    shap_values=counter_explanation['shap_values'],\n",
    "    names=counter_explanation['feature_names'],\n",
    "    feature_values=counter_explanation['feature_values'],\n",
    "    descriptions=counter_explanation['feature_descriptions'],\n",
    "    max_features=10,\n",
    "    x_axis_label=x_axis_label,\n",
    ").show()"
   ]
  },
  {
   "cell_type": "markdown",
   "id": "0831c275",
   "metadata": {},
   "source": [
    "## Clean Up\n",
    "\n",
    "When you've finished with the explainer endpoint (and associated\n",
    "endpoint-config), make sure that you delete it to avoid accidental\n",
    "charges. (You may want to keep the model as it will be used in the next stage)"
   ]
  },
  {
   "cell_type": "code",
   "execution_count": 19,
   "id": "8d492c28",
   "metadata": {
    "tags": [],
    "vscode": {
     "languageId": "python"
    }
   },
   "outputs": [
    {
     "data": {
      "text/plain": [
       "{'ResponseMetadata': {'RequestId': '8378578a-9c66-4c61-a05e-639148eb2e01',\n",
       "  'HTTPStatusCode': 200,\n",
       "  'HTTPHeaders': {'x-amzn-requestid': '8378578a-9c66-4c61-a05e-639148eb2e01',\n",
       "   'content-type': 'application/x-amz-json-1.1',\n",
       "   'content-length': '0',\n",
       "   'date': 'Fri, 30 Jun 2023 22:43:33 GMT'},\n",
       "  'RetryAttempts': 0}}"
      ]
     },
     "execution_count": 19,
     "metadata": {},
     "output_type": "execute_result"
    }
   ],
   "source": [
    "sagemaker_client.delete_endpoint(EndpointName=explainer_name)\n",
    "sagemaker_client.delete_endpoint_config(EndpointConfigName=explainer_name)\n",
    "# sagemaker_client.delete_model(ModelName=explainer_name)"
   ]
  },
  {
   "cell_type": "markdown",
   "id": "2f6e9717",
   "metadata": {},
   "source": [
    "## Next Stage\n",
    "\n",
    "Up next we'll use Amazon SageMaker Batch Transform to obtain explanations\n",
    "for our complete dataset.\n",
    "\n",
    "[Click here to continue.](./4_batch_transform.ipynb)"
   ]
  }
 ],
 "metadata": {
  "availableInstances": [
   {
    "_defaultOrder": 0,
    "_isFastLaunch": true,
    "category": "General purpose",
    "gpuNum": 0,
    "hideHardwareSpecs": false,
    "memoryGiB": 4,
    "name": "ml.t3.medium",
    "vcpuNum": 2
   },
   {
    "_defaultOrder": 1,
    "_isFastLaunch": false,
    "category": "General purpose",
    "gpuNum": 0,
    "hideHardwareSpecs": false,
    "memoryGiB": 8,
    "name": "ml.t3.large",
    "vcpuNum": 2
   },
   {
    "_defaultOrder": 2,
    "_isFastLaunch": false,
    "category": "General purpose",
    "gpuNum": 0,
    "hideHardwareSpecs": false,
    "memoryGiB": 16,
    "name": "ml.t3.xlarge",
    "vcpuNum": 4
   },
   {
    "_defaultOrder": 3,
    "_isFastLaunch": false,
    "category": "General purpose",
    "gpuNum": 0,
    "hideHardwareSpecs": false,
    "memoryGiB": 32,
    "name": "ml.t3.2xlarge",
    "vcpuNum": 8
   },
   {
    "_defaultOrder": 4,
    "_isFastLaunch": true,
    "category": "General purpose",
    "gpuNum": 0,
    "hideHardwareSpecs": false,
    "memoryGiB": 8,
    "name": "ml.m5.large",
    "vcpuNum": 2
   },
   {
    "_defaultOrder": 5,
    "_isFastLaunch": false,
    "category": "General purpose",
    "gpuNum": 0,
    "hideHardwareSpecs": false,
    "memoryGiB": 16,
    "name": "ml.m5.xlarge",
    "vcpuNum": 4
   },
   {
    "_defaultOrder": 6,
    "_isFastLaunch": false,
    "category": "General purpose",
    "gpuNum": 0,
    "hideHardwareSpecs": false,
    "memoryGiB": 32,
    "name": "ml.m5.2xlarge",
    "vcpuNum": 8
   },
   {
    "_defaultOrder": 7,
    "_isFastLaunch": false,
    "category": "General purpose",
    "gpuNum": 0,
    "hideHardwareSpecs": false,
    "memoryGiB": 64,
    "name": "ml.m5.4xlarge",
    "vcpuNum": 16
   },
   {
    "_defaultOrder": 8,
    "_isFastLaunch": false,
    "category": "General purpose",
    "gpuNum": 0,
    "hideHardwareSpecs": false,
    "memoryGiB": 128,
    "name": "ml.m5.8xlarge",
    "vcpuNum": 32
   },
   {
    "_defaultOrder": 9,
    "_isFastLaunch": false,
    "category": "General purpose",
    "gpuNum": 0,
    "hideHardwareSpecs": false,
    "memoryGiB": 192,
    "name": "ml.m5.12xlarge",
    "vcpuNum": 48
   },
   {
    "_defaultOrder": 10,
    "_isFastLaunch": false,
    "category": "General purpose",
    "gpuNum": 0,
    "hideHardwareSpecs": false,
    "memoryGiB": 256,
    "name": "ml.m5.16xlarge",
    "vcpuNum": 64
   },
   {
    "_defaultOrder": 11,
    "_isFastLaunch": false,
    "category": "General purpose",
    "gpuNum": 0,
    "hideHardwareSpecs": false,
    "memoryGiB": 384,
    "name": "ml.m5.24xlarge",
    "vcpuNum": 96
   },
   {
    "_defaultOrder": 12,
    "_isFastLaunch": false,
    "category": "General purpose",
    "gpuNum": 0,
    "hideHardwareSpecs": false,
    "memoryGiB": 8,
    "name": "ml.m5d.large",
    "vcpuNum": 2
   },
   {
    "_defaultOrder": 13,
    "_isFastLaunch": false,
    "category": "General purpose",
    "gpuNum": 0,
    "hideHardwareSpecs": false,
    "memoryGiB": 16,
    "name": "ml.m5d.xlarge",
    "vcpuNum": 4
   },
   {
    "_defaultOrder": 14,
    "_isFastLaunch": false,
    "category": "General purpose",
    "gpuNum": 0,
    "hideHardwareSpecs": false,
    "memoryGiB": 32,
    "name": "ml.m5d.2xlarge",
    "vcpuNum": 8
   },
   {
    "_defaultOrder": 15,
    "_isFastLaunch": false,
    "category": "General purpose",
    "gpuNum": 0,
    "hideHardwareSpecs": false,
    "memoryGiB": 64,
    "name": "ml.m5d.4xlarge",
    "vcpuNum": 16
   },
   {
    "_defaultOrder": 16,
    "_isFastLaunch": false,
    "category": "General purpose",
    "gpuNum": 0,
    "hideHardwareSpecs": false,
    "memoryGiB": 128,
    "name": "ml.m5d.8xlarge",
    "vcpuNum": 32
   },
   {
    "_defaultOrder": 17,
    "_isFastLaunch": false,
    "category": "General purpose",
    "gpuNum": 0,
    "hideHardwareSpecs": false,
    "memoryGiB": 192,
    "name": "ml.m5d.12xlarge",
    "vcpuNum": 48
   },
   {
    "_defaultOrder": 18,
    "_isFastLaunch": false,
    "category": "General purpose",
    "gpuNum": 0,
    "hideHardwareSpecs": false,
    "memoryGiB": 256,
    "name": "ml.m5d.16xlarge",
    "vcpuNum": 64
   },
   {
    "_defaultOrder": 19,
    "_isFastLaunch": false,
    "category": "General purpose",
    "gpuNum": 0,
    "hideHardwareSpecs": false,
    "memoryGiB": 384,
    "name": "ml.m5d.24xlarge",
    "vcpuNum": 96
   },
   {
    "_defaultOrder": 20,
    "_isFastLaunch": false,
    "category": "General purpose",
    "gpuNum": 0,
    "hideHardwareSpecs": true,
    "memoryGiB": 0,
    "name": "ml.geospatial.interactive",
    "supportedImageNames": [
     "sagemaker-geospatial-v1-0"
    ],
    "vcpuNum": 0
   },
   {
    "_defaultOrder": 21,
    "_isFastLaunch": true,
    "category": "Compute optimized",
    "gpuNum": 0,
    "hideHardwareSpecs": false,
    "memoryGiB": 4,
    "name": "ml.c5.large",
    "vcpuNum": 2
   },
   {
    "_defaultOrder": 22,
    "_isFastLaunch": false,
    "category": "Compute optimized",
    "gpuNum": 0,
    "hideHardwareSpecs": false,
    "memoryGiB": 8,
    "name": "ml.c5.xlarge",
    "vcpuNum": 4
   },
   {
    "_defaultOrder": 23,
    "_isFastLaunch": false,
    "category": "Compute optimized",
    "gpuNum": 0,
    "hideHardwareSpecs": false,
    "memoryGiB": 16,
    "name": "ml.c5.2xlarge",
    "vcpuNum": 8
   },
   {
    "_defaultOrder": 24,
    "_isFastLaunch": false,
    "category": "Compute optimized",
    "gpuNum": 0,
    "hideHardwareSpecs": false,
    "memoryGiB": 32,
    "name": "ml.c5.4xlarge",
    "vcpuNum": 16
   },
   {
    "_defaultOrder": 25,
    "_isFastLaunch": false,
    "category": "Compute optimized",
    "gpuNum": 0,
    "hideHardwareSpecs": false,
    "memoryGiB": 72,
    "name": "ml.c5.9xlarge",
    "vcpuNum": 36
   },
   {
    "_defaultOrder": 26,
    "_isFastLaunch": false,
    "category": "Compute optimized",
    "gpuNum": 0,
    "hideHardwareSpecs": false,
    "memoryGiB": 96,
    "name": "ml.c5.12xlarge",
    "vcpuNum": 48
   },
   {
    "_defaultOrder": 27,
    "_isFastLaunch": false,
    "category": "Compute optimized",
    "gpuNum": 0,
    "hideHardwareSpecs": false,
    "memoryGiB": 144,
    "name": "ml.c5.18xlarge",
    "vcpuNum": 72
   },
   {
    "_defaultOrder": 28,
    "_isFastLaunch": false,
    "category": "Compute optimized",
    "gpuNum": 0,
    "hideHardwareSpecs": false,
    "memoryGiB": 192,
    "name": "ml.c5.24xlarge",
    "vcpuNum": 96
   },
   {
    "_defaultOrder": 29,
    "_isFastLaunch": true,
    "category": "Accelerated computing",
    "gpuNum": 1,
    "hideHardwareSpecs": false,
    "memoryGiB": 16,
    "name": "ml.g4dn.xlarge",
    "vcpuNum": 4
   },
   {
    "_defaultOrder": 30,
    "_isFastLaunch": false,
    "category": "Accelerated computing",
    "gpuNum": 1,
    "hideHardwareSpecs": false,
    "memoryGiB": 32,
    "name": "ml.g4dn.2xlarge",
    "vcpuNum": 8
   },
   {
    "_defaultOrder": 31,
    "_isFastLaunch": false,
    "category": "Accelerated computing",
    "gpuNum": 1,
    "hideHardwareSpecs": false,
    "memoryGiB": 64,
    "name": "ml.g4dn.4xlarge",
    "vcpuNum": 16
   },
   {
    "_defaultOrder": 32,
    "_isFastLaunch": false,
    "category": "Accelerated computing",
    "gpuNum": 1,
    "hideHardwareSpecs": false,
    "memoryGiB": 128,
    "name": "ml.g4dn.8xlarge",
    "vcpuNum": 32
   },
   {
    "_defaultOrder": 33,
    "_isFastLaunch": false,
    "category": "Accelerated computing",
    "gpuNum": 4,
    "hideHardwareSpecs": false,
    "memoryGiB": 192,
    "name": "ml.g4dn.12xlarge",
    "vcpuNum": 48
   },
   {
    "_defaultOrder": 34,
    "_isFastLaunch": false,
    "category": "Accelerated computing",
    "gpuNum": 1,
    "hideHardwareSpecs": false,
    "memoryGiB": 256,
    "name": "ml.g4dn.16xlarge",
    "vcpuNum": 64
   },
   {
    "_defaultOrder": 35,
    "_isFastLaunch": false,
    "category": "Accelerated computing",
    "gpuNum": 1,
    "hideHardwareSpecs": false,
    "memoryGiB": 61,
    "name": "ml.p3.2xlarge",
    "vcpuNum": 8
   },
   {
    "_defaultOrder": 36,
    "_isFastLaunch": false,
    "category": "Accelerated computing",
    "gpuNum": 4,
    "hideHardwareSpecs": false,
    "memoryGiB": 244,
    "name": "ml.p3.8xlarge",
    "vcpuNum": 32
   },
   {
    "_defaultOrder": 37,
    "_isFastLaunch": false,
    "category": "Accelerated computing",
    "gpuNum": 8,
    "hideHardwareSpecs": false,
    "memoryGiB": 488,
    "name": "ml.p3.16xlarge",
    "vcpuNum": 64
   },
   {
    "_defaultOrder": 38,
    "_isFastLaunch": false,
    "category": "Accelerated computing",
    "gpuNum": 8,
    "hideHardwareSpecs": false,
    "memoryGiB": 768,
    "name": "ml.p3dn.24xlarge",
    "vcpuNum": 96
   },
   {
    "_defaultOrder": 39,
    "_isFastLaunch": false,
    "category": "Memory Optimized",
    "gpuNum": 0,
    "hideHardwareSpecs": false,
    "memoryGiB": 16,
    "name": "ml.r5.large",
    "vcpuNum": 2
   },
   {
    "_defaultOrder": 40,
    "_isFastLaunch": false,
    "category": "Memory Optimized",
    "gpuNum": 0,
    "hideHardwareSpecs": false,
    "memoryGiB": 32,
    "name": "ml.r5.xlarge",
    "vcpuNum": 4
   },
   {
    "_defaultOrder": 41,
    "_isFastLaunch": false,
    "category": "Memory Optimized",
    "gpuNum": 0,
    "hideHardwareSpecs": false,
    "memoryGiB": 64,
    "name": "ml.r5.2xlarge",
    "vcpuNum": 8
   },
   {
    "_defaultOrder": 42,
    "_isFastLaunch": false,
    "category": "Memory Optimized",
    "gpuNum": 0,
    "hideHardwareSpecs": false,
    "memoryGiB": 128,
    "name": "ml.r5.4xlarge",
    "vcpuNum": 16
   },
   {
    "_defaultOrder": 43,
    "_isFastLaunch": false,
    "category": "Memory Optimized",
    "gpuNum": 0,
    "hideHardwareSpecs": false,
    "memoryGiB": 256,
    "name": "ml.r5.8xlarge",
    "vcpuNum": 32
   },
   {
    "_defaultOrder": 44,
    "_isFastLaunch": false,
    "category": "Memory Optimized",
    "gpuNum": 0,
    "hideHardwareSpecs": false,
    "memoryGiB": 384,
    "name": "ml.r5.12xlarge",
    "vcpuNum": 48
   },
   {
    "_defaultOrder": 45,
    "_isFastLaunch": false,
    "category": "Memory Optimized",
    "gpuNum": 0,
    "hideHardwareSpecs": false,
    "memoryGiB": 512,
    "name": "ml.r5.16xlarge",
    "vcpuNum": 64
   },
   {
    "_defaultOrder": 46,
    "_isFastLaunch": false,
    "category": "Memory Optimized",
    "gpuNum": 0,
    "hideHardwareSpecs": false,
    "memoryGiB": 768,
    "name": "ml.r5.24xlarge",
    "vcpuNum": 96
   },
   {
    "_defaultOrder": 47,
    "_isFastLaunch": false,
    "category": "Accelerated computing",
    "gpuNum": 1,
    "hideHardwareSpecs": false,
    "memoryGiB": 16,
    "name": "ml.g5.xlarge",
    "vcpuNum": 4
   },
   {
    "_defaultOrder": 48,
    "_isFastLaunch": false,
    "category": "Accelerated computing",
    "gpuNum": 1,
    "hideHardwareSpecs": false,
    "memoryGiB": 32,
    "name": "ml.g5.2xlarge",
    "vcpuNum": 8
   },
   {
    "_defaultOrder": 49,
    "_isFastLaunch": false,
    "category": "Accelerated computing",
    "gpuNum": 1,
    "hideHardwareSpecs": false,
    "memoryGiB": 64,
    "name": "ml.g5.4xlarge",
    "vcpuNum": 16
   },
   {
    "_defaultOrder": 50,
    "_isFastLaunch": false,
    "category": "Accelerated computing",
    "gpuNum": 1,
    "hideHardwareSpecs": false,
    "memoryGiB": 128,
    "name": "ml.g5.8xlarge",
    "vcpuNum": 32
   },
   {
    "_defaultOrder": 51,
    "_isFastLaunch": false,
    "category": "Accelerated computing",
    "gpuNum": 1,
    "hideHardwareSpecs": false,
    "memoryGiB": 256,
    "name": "ml.g5.16xlarge",
    "vcpuNum": 64
   },
   {
    "_defaultOrder": 52,
    "_isFastLaunch": false,
    "category": "Accelerated computing",
    "gpuNum": 4,
    "hideHardwareSpecs": false,
    "memoryGiB": 192,
    "name": "ml.g5.12xlarge",
    "vcpuNum": 48
   },
   {
    "_defaultOrder": 53,
    "_isFastLaunch": false,
    "category": "Accelerated computing",
    "gpuNum": 4,
    "hideHardwareSpecs": false,
    "memoryGiB": 384,
    "name": "ml.g5.24xlarge",
    "vcpuNum": 96
   },
   {
    "_defaultOrder": 54,
    "_isFastLaunch": false,
    "category": "Accelerated computing",
    "gpuNum": 8,
    "hideHardwareSpecs": false,
    "memoryGiB": 768,
    "name": "ml.g5.48xlarge",
    "vcpuNum": 192
   },
   {
    "_defaultOrder": 55,
    "_isFastLaunch": false,
    "category": "Accelerated computing",
    "gpuNum": 8,
    "hideHardwareSpecs": false,
    "memoryGiB": 1152,
    "name": "ml.p4d.24xlarge",
    "vcpuNum": 96
   },
   {
    "_defaultOrder": 56,
    "_isFastLaunch": false,
    "category": "Accelerated computing",
    "gpuNum": 8,
    "hideHardwareSpecs": false,
    "memoryGiB": 1152,
    "name": "ml.p4de.24xlarge",
    "vcpuNum": 96
   }
  ],
  "instance_type": "ml.t3.medium",
  "kernelspec": {
   "display_name": "Python 3 (Data Science 2.0)",
   "language": "python",
   "name": "python3__SAGEMAKER_INTERNAL__arn:aws:sagemaker:us-east-1:081325390199:image/sagemaker-data-science-38"
  },
  "language_info": {
   "codemirror_mode": {
    "name": "ipython",
    "version": 3
   },
   "file_extension": ".py",
   "mimetype": "text/x-python",
   "name": "python",
   "nbconvert_exporter": "python",
   "pygments_lexer": "ipython3",
   "version": "3.8.13"
  }
 },
 "nbformat": 4,
 "nbformat_minor": 5
}
