{
 "cells": [
  {
   "cell_type": "markdown",
   "id": "ceae8445",
   "metadata": {},
   "source": [
    "# Datasets\n",
    "\n",
    "In this notebook, we'll take a look at preparing datasets for machine\n",
    "learning using AWS Glue and create schemas to enforce validity of the\n",
    "data in later stages.\n",
    "\n",
    "**Note**: When running this notebook on SageMaker Studio, you should make\n",
    "sure the 'SageMaker JumpStart Data Science 1.0' image/kernel is used. You\n",
    "can run all cells or step through them one at a time.\n",
    "\n",
    "<p align=\"center\">\n",
    "  <img src=\"https://github.com/awslabs/sagemaker-explaining-credit-decisions/raw/master/docs/architecture_diagrams/stage_1.png\" width=\"1000px\">\n",
    "</p>"
   ]
  },
  {
   "cell_type": "markdown",
   "id": "cf6532cb",
   "metadata": {},
   "source": [
    "When creating the AWS CloudFormation stack, a collection of synthetic\n",
    "datasets were generated and stored in our solution Amazon S3 bucket with\n",
    "a prefix of `dataset`. Most of the features contained in these datasets\n",
    "are based on the [German Credit\n",
    "Dataset](http://archive.ics.uci.edu/ml/datasets/statlog%2B%28german%2Bcredit%2Bdata%29)\n",
    "(UCI Machine Learning Repository), but there are some synthetic data\n",
    "fields too. All personal information was generated using\n",
    "[`Faker`](https://faker.readthedocs.io/en/master/). We have 3 datasets in\n",
    "total: credits, people and contacts."
   ]
  },
  {
   "cell_type": "markdown",
   "id": "7f364185",
   "metadata": {},
   "source": [
    "This solution relies on a config file to run the provisioned AWS resources. Run the cell below to generate that file."
   ]
  },
  {
   "cell_type": "code",
   "execution_count": 2,
   "id": "484eb3c0",
   "metadata": {
    "tags": []
   },
   "outputs": [],
   "source": [
    "import boto3\n",
    "import os\n",
    "import json\n",
    " \n",
    "client = boto3.client('servicecatalog')\n",
    "cwd = os.getcwd().split('/')\n",
    "i= cwd.index('S3Downloads')\n",
    "pp_name = cwd[i + 1]\n",
    "pp = client.describe_provisioned_product(Name=pp_name)\n",
    "record_id = pp['ProvisionedProductDetail']['LastSuccessfulProvisioningRecordId']\n",
    "record = client.describe_record(Id=record_id)\n",
    " \n",
    "keys = [ x['OutputKey'] for x in record['RecordOutputs'] if 'OutputKey' and 'OutputValue' in x]\n",
    "values = [ x['OutputValue'] for x in record['RecordOutputs'] if 'OutputKey' and 'OutputValue' in x]\n",
    "stack_output = dict(zip(keys, values))\n",
    " \n",
    "with open(f'/root/S3Downloads/{pp_name}/stack_outputs.json', 'w') as f:\n",
    "    json.dump(stack_output, f)"
   ]
  },
  {
   "cell_type": "markdown",
   "id": "7626ae81",
   "metadata": {},
   "source": [
    "### Dataset #1: Credits\n",
    "\n",
    "Our credits dataset contains features directly related to the credit\n",
    "application.\n",
    "\n",
    "It is a CSV file (i.e. Comma Seperated Value file) that has a header row\n",
    "with feature names. Of particular note is the feature called `default`.\n",
    "It is our target variable that we're trying to predict with our LightGBM\n",
    "model. We show the first two rows of the dataset below:\n",
    "\n",
    "```\n",
    "\"credit_id\",\"person_id\",\"amount\",\"duration\",\"purpose\",\"installment_rate\",\"guarantor\",\"coapplicant\",\"default\"\n",
    "\"51829372\",\"f032303d\",1169,6,\"electronics\",4,0,0,False\n",
    "```"
   ]
  },
  {
   "cell_type": "markdown",
   "id": "946fa3d7",
   "metadata": {},
   "source": [
    "### Dataset #2: People\n",
    "\n",
    "Our credits data contains features related to the people making the\n",
    "credit applications (i.e. the applicants).\n",
    "\n",
    "It's a [JSON Lines](http://jsonlines.org/) file, where each row is a\n",
    "separate JSON object. Of particular note is the feature called\n",
    "`person_id`. You'll notice that this feature was also included in the\n",
    "credits dataset. It is used to connect the credit application with the\n",
    "applicant. We show the first row of the dataset below:\n",
    "\n",
    "```\n",
    "{\n",
    "    \"person_id\": \"f032303d\",\n",
    "    \"finance\": {\n",
    "        \"accounts\": {\n",
    "            \"checking\": {\n",
    "                \"balance\": \"negative\"\n",
    "            }\n",
    "        },\n",
    "        \"repayment_history\": \"very_poor\",\n",
    "        \"credits\": {\n",
    "            \"this_bank\": 2,\n",
    "            \"other_banks\": 0,\n",
    "            \"other_stores\": 0\n",
    "        },\n",
    "        \"other_assets\": \"real_estate\"\n",
    "    },\n",
    "    \"personal\": {\n",
    "        \"age\": 67,\n",
    "        \"gender\": \"male\",\n",
    "        \"relationship_status\": \"single\",\n",
    "        \"name\": \"Peter Jones\"\n",
    "    },\n",
    "    \"dependents\": [\n",
    "        {\n",
    "            \"gender\": \"male\",\n",
    "            \"name\": \"Michael Morales\"\n",
    "        }\n",
    "    ],\n",
    "    \"employment\": {\n",
    "        \"type\": \"professional\",\n",
    "        \"title\": \"Learning disability nurse\",\n",
    "        \"duration\": 11,\n",
    "        \"permit\": \"foreign\"\n",
    "    },\n",
    "    \"residence\": {\n",
    "        \"type\": \"own\",\n",
    "        \"duration\": 4\n",
    "    }\n",
    "}\n",
    "```"
   ]
  },
  {
   "cell_type": "markdown",
   "id": "1ed4cc58",
   "metadata": {},
   "source": [
    "### Dataset #3: Contacts\n",
    "\n",
    "Our contacts dataset contains contact information for the applicants.\n",
    "\n",
    "It is a CSV file that has a header row with feature names. Once again we\n",
    "have `person_id`. We show the first two rows of the dataset below:\n",
    "\n",
    "```\n",
    "\"contact_id\",\"person_id\",\"type\",\"value\"\n",
    "\"5996e20a\",\"f032303d\",\"telephone\",\"(716)406-9514x345\"\n",
    "```"
   ]
  },
  {
   "cell_type": "markdown",
   "id": "da64e369",
   "metadata": {},
   "source": [
    "## AWS Glue\n",
    "\n",
    "One of the most time consuming tasks in developing a machine learning\n",
    "workflow is data preperation. AWS Glue can be used to simplify this\n",
    "process. As a demonstration of how it can be used to infer data schemas\n",
    "and perform extract, transform and load (ETL) jobs in Spark, we'll\n",
    "prepare a dataset using AWS Glue. Although our sample datasets are small,\n",
    "there are many real world scenarios that will benefit from the\n",
    "scalability of AWS Glue.\n",
    "\n",
    "When creating the AWS CloudFormation stack, a number of AWS Glue resources\n",
    "were created:\n",
    "\n",
    "* A\n",
    "  [Database](https://docs.aws.amazon.com/glue/latest/dg/define-database.html)\n",
    "  is used to organize solution's tables.\n",
    "* A [Crawler](https://docs.aws.amazon.com/glue/latest/dg/add-crawler.html) is\n",
    "  used infer formats and schemas of the datasets above.\n",
    "* A [Custom\n",
    "  Classifier](https://docs.aws.amazon.com/glue/latest/dg/add-classifier.html)\n",
    "  is used to help the classifier infer the schema of the contacts datasets.\n",
    "    * All fields are of type 'string', so we need to indicate that the first\n",
    "      row is a header row rather than data.\n",
    "* A [Job](https://docs.aws.amazon.com/glue/latest/dg/author-job.html) is used\n",
    "  to join the datasets together, drop certain feature, create other features,\n",
    "  and split train and test sets.\n",
    "* A\n",
    "  [Workflow](https://docs.aws.amazon.com/glue/latest/dg/orchestrate-using-workflows.html)\n",
    "  (and associated\n",
    "  [triggers](https://docs.aws.amazon.com/glue/latest/dg/trigger-job.html)) to\n",
    "  orchestrate the above crawler and job.\n",
    "\n",
    "You can explore the service console for AWS Glue for more details."
   ]
  },
  {
   "cell_type": "markdown",
   "id": "5644b624",
   "metadata": {},
   "source": [
    "We then import a variety of packages that will be used throughout\n",
    "the notebook. One of the most important packages used throughout this\n",
    "solution is the Amazon SageMaker Python SDK (i.e. `import sagemaker`). We\n",
    "also import modules from our own custom package that can be found at\n",
    "`./package`."
   ]
  },
  {
   "cell_type": "code",
   "execution_count": 3,
   "id": "6d246f62",
   "metadata": {
    "tags": []
   },
   "outputs": [
    {
     "name": "stderr",
     "output_type": "stream",
     "text": [
      "/opt/conda/lib/python3.8/site-packages/scipy/__init__.py:146: UserWarning: A NumPy version >=1.16.5 and <1.23.0 is required for this version of SciPy (detected version 1.24.3\n",
      "  warnings.warn(f\"A NumPy version >={np_minversion} and <{np_maxversion}\"\n"
     ]
    }
   ],
   "source": [
    "import boto3\n",
    "from pathlib import Path\n",
    "import sagemaker\n",
    "import sys\n",
    "\n",
    "sys.path.insert(0, '../package')\n",
    "from package import config, utils\n",
    "from package.data import glue"
   ]
  },
  {
   "cell_type": "markdown",
   "id": "e73e830e",
   "metadata": {},
   "source": [
    "We'll now start the AWS Glue workflow which will first crawl the datasets\n",
    "stored in Amazon S3 and then execute a job for our data ELT (i.e.\n",
    "Extract, Transform & Load)."
   ]
  },
  {
   "cell_type": "code",
   "execution_count": 4,
   "id": "e9d346d5",
   "metadata": {
    "tags": []
   },
   "outputs": [],
   "source": [
    "glue_run_id = glue.start_workflow(config.GLUE_WORKFLOW)"
   ]
  },
  {
   "cell_type": "markdown",
   "id": "0bf500bf",
   "metadata": {},
   "source": [
    "Our workflow takes around 10 minutes to complete. Most of this time is spend\n",
    "on resource provisioning, but there is a [preview\n",
    "feature](https://pages.awscloud.com/glue-reduced-spark-times-preview-2020.html)\n",
    "for reduced start times. We'll wait until the AWS Glue workflow has completed\n",
    "before continuing. We need the dataset before training our model in Amazon\n",
    "SageMaker."
   ]
  },
  {
   "cell_type": "markdown",
   "id": "320b4d05",
   "metadata": {},
   "source": [
    "You might encounter an \"AccessDeniedException\" like below during running the Glue job.\n",
    "```... AmazonSageMakerServiceCatalogProductsUseRole/GlueJobRunnerSession is not authorized to perform: glue:GetUserDefinedFunctionsService ...```\n",
    "The fix is to manually add `glue:GetUserDefinedFunctions` permission to the given IAM role\n",
    "The steps are followings:\n",
    "- Navigate to IAM Console, find the role named \"AmazonSageMakerServiceCatalogProductsUseRole\".\n",
    "- Click on the role -> click \"Add Permissions\" -> choose \"Create Inline Policy\"\n",
    "- Click the tab \"JSON\" and copy the following policy and paste into the input window\n",
    "```\n",
    "{\n",
    "    \"Version\": \"2012-10-17\",\n",
    "    \"Statement\": [\n",
    "        {\n",
    "            \"Sid\": \"VisualEditor0\",\n",
    "            \"Effect\": \"Allow\",\n",
    "            \"Action\": \"glue:GetUserDefinedFunctions\",\n",
    "            \"Resource\": \"*\"\n",
    "        }\n",
    "    ]\n",
    "}\n",
    "```\n",
    "- Click \"Review Policy\"\n",
    "- Name the inline policy as \"glueGetUserDefinedFunctions\", and then click \"Create Policy\".\n",
    "- Repeat the above steps to add the same inline policy for `AmazonSageMakerServiceCatalogProductsGlueRole`"
   ]
  },
  {
   "cell_type": "code",
   "execution_count": 5,
   "id": "4463650f",
   "metadata": {
    "tags": []
   },
   "outputs": [
    {
     "name": "stdout",
     "output_type": "stream",
     "text": [
      "..........................\n",
      "AWS Glue Workflow has finished successfully.\n"
     ]
    }
   ],
   "source": [
    "glue.wait_for_workflow_finished(config.GLUE_WORKFLOW, glue_run_id)"
   ]
  },
  {
   "cell_type": "markdown",
   "id": "52a54994",
   "metadata": {},
   "source": [
    "With our AWS Glue workflow complete, we should now have 4 additional\n",
    "datasets in our solution's Amazon S3 bucket: `data_train`, `label_train`,\n",
    "`data_test` and `label_test`. We show an example first record of\n",
    "`data_train` below:\n",
    "\n",
    "```\n",
    "{\n",
    "\t\"credit__coapplicant\": 0,\n",
    "\t\"credit__guarantor\": 0,\n",
    "\t\"finance__credits__other_stores\": 0,\n",
    "\t\"employment__permit\": \"foreign\",\n",
    "\t\"employment__type\": \"labourer\",\n",
    "\t\"finance__accounts__checking__balance\": \"no_account\",\n",
    "\t\"finance__credits__this_bank\": 2,\n",
    "\t\"finance__credits__other_banks\": 1,\n",
    "\t\"personal__num_dependents\": 1,\n",
    "\t\"finance__accounts__savings__balance\": \"very_high\",\n",
    "\t\"residence__duration\": 2,\n",
    "\t\"credit__amount\": 250,\n",
    "\t\"contact__has_telephone\": false,\n",
    "\t\"employment__duration\": 4,\n",
    "\t\"credit__duration\": 6,\n",
    "\t\"finance__repayment_history\": \"very_poor\",\n",
    "\t\"finance__other_assets\": \"real_estate\",\n",
    "\t\"credit__purpose\": \"new_car\",\n",
    "\t\"residence__type\": \"own\",\n",
    "\t\"credit__installment_rate\": 2\n",
    "}\n",
    "```\n",
    "\n",
    "We now have 20 features that describe a credit application and its\n",
    "applicant. Since we are using JSON formatted record we still have the\n",
    "feature names, but additional information such as the feature types can\n",
    "be retrieved from the schema stored in our AWS Glue catalog. Since we're\n",
    "interested in explaining the model predictions, and our explanations will\n",
    "assign contributions to features, it's useful if our feature names are\n",
    "understandable.\n",
    "\n",
    "**Advanced**: We can also organize features in a hierarchy (using a seperator\n",
    "in the feature names), which enables summarization of the explanations. As an\n",
    "example, `employment__type` and `employment__duration` are both `employment`\n",
    "related features. We use two consecutive underscores (`__`) as our level\n",
    "separator."
   ]
  },
  {
   "cell_type": "markdown",
   "id": "85df1515",
   "metadata": {},
   "source": [
    "## Schema\n",
    "Schemas can be used to keep track of feature names, descriptions and\n",
    "types. Our solution uses\n",
    "[`jsonschema`](https://python-jsonschema.readthedocs.io/en/stable/) as\n",
    "the primary schema format. We have the added bonus of being able to use\n",
    "schemas to validate input to the trained model and deployed endpoints,\n",
    "and consistently map unordered dictionaries to ordered lists (as required\n",
    "by the model). We don't need to create schemas to use Amazon SageMaker,\n",
    "but they help in this solution.\n",
    "\n",
    "We already have most of this schema information in our AWS Glue catalog\n",
    "(it was added when data was exported by the AWS Glue Job), so let's start\n",
    "by retrieving the table schema for `data_train`."
   ]
  },
  {
   "cell_type": "code",
   "execution_count": 6,
   "id": "5fdc8c52",
   "metadata": {
    "tags": []
   },
   "outputs": [],
   "source": [
    "data_schema = glue.get_table_schema(\n",
    "    database_name=config.GLUE_DATABASE, table_name=\"data_train\"\n",
    ")"
   ]
  },
  {
   "cell_type": "markdown",
   "id": "1c073ebb",
   "metadata": {},
   "source": [
    "We can now add additional information such as feature descriptions, that will\n",
    "be shown inside the tooltip on the visuals later on."
   ]
  },
  {
   "cell_type": "code",
   "execution_count": 7,
   "id": "3e370341",
   "metadata": {
    "tags": []
   },
   "outputs": [],
   "source": [
    "# flake8: noqa: E501\n",
    "data_schema.title = \"Credit Application\"\n",
    "data_schema.description = \"An array of items used to describe a credit application.\"\n",
    "item_descriptions_dict = {\n",
    "    \"contact__has_telephone\": \"Customer has a registered telephone number.\",\n",
    "    \"credit__amount\": \"Amount of money requested as part of credit application (in EUR).\",\n",
    "    \"credit__coapplicant\": \"Co-applicant on credit application.\",\n",
    "    \"credit__duration\": \"Amount of time the credit is requested for (in months).\",\n",
    "    \"credit__guarantor\": \"Guarantor on credit application.\",\n",
    "    \"credit__installment_rate\": \"Credit installment rate (as a percentage of the customer's disposable income).\",\n",
    "    \"credit__purpose\": \"Customer's reason for requiring credit.\",\n",
    "    \"employment__duration\": \"Amount of time the customer has been employed at their current employer (in years).\",\n",
    "    \"employment__permit\": \"Customer's current work permit type.\",\n",
    "    \"employment__type\": \"Customer's current job classification.\",\n",
    "    \"finance__accounts__checking__balance\": \"Customer's checking account balance.\",\n",
    "    \"finance__accounts__savings__balance\": \"Customer's savings account balance.\",\n",
    "    \"finance__credits__other_banks\": \"Count of credits the customer has at other banks.\",\n",
    "    \"finance__credits__other_stores\": \"Count of credits the customer has at other stores.\",\n",
    "    \"finance__credits__this_bank\": \"Count of credits the customer has at this bank.\",\n",
    "    \"finance__other_assets\": \"Customer's most significant asset.\",\n",
    "    \"finance__repayment_history\": \"Quality of the customer's repayment history.\",\n",
    "    \"personal__num_dependents\": \"Count of the customer's dependents.\",\n",
    "    \"residence__duration\": \"Amount of time the customer has been at their current residence (in years).\",\n",
    "    \"residence__type\": \"Class of the customer's residence.\"\n",
    "}\n",
    "data_schema.item_descriptions_dict = item_descriptions_dict"
   ]
  },
  {
   "cell_type": "markdown",
   "id": "1173d0c4",
   "metadata": {},
   "source": [
    "We do the same for `label_train` too."
   ]
  },
  {
   "cell_type": "code",
   "execution_count": 8,
   "id": "70f31631",
   "metadata": {
    "tags": []
   },
   "outputs": [],
   "source": [
    "label_schema = glue.get_table_schema(\n",
    "    database_name=config.GLUE_DATABASE, table_name=\"label_train\"\n",
    ")\n",
    "label_schema.title = \"Credit Application Outcome\"\n",
    "item_descriptions_dict = {\n",
    "    \"credit__default\": (\n",
    "        \"0 if the customer successfully made credit payments, \"\n",
    "        \"1 if the customer defaulted on credit payments.\")\n",
    "}\n",
    "label_schema.item_descriptions_dict = item_descriptions_dict"
   ]
  },
  {
   "cell_type": "markdown",
   "id": "6744c6db",
   "metadata": {},
   "source": [
    "Since the schemas for train and test datasets are the same, we can skip\n",
    "`data_test` and `label_test`.\n",
    "\n",
    "We can save our updated schemas to disk, in preperation for uploading to\n",
    "Amazon S3. You can check the `schema_folder` afterwards, and examine the\n",
    "`data.schema.json` and `label.schema.json` files for data and label\n",
    "schemas respectively."
   ]
  },
  {
   "cell_type": "code",
   "execution_count": 9,
   "id": "1eedfc9a",
   "metadata": {
    "tags": []
   },
   "outputs": [],
   "source": [
    "current_folder = utils.get_current_folder(globals())\n",
    "schema_folder = Path(current_folder, \"../schemas\").resolve()\n",
    "data_schema_filepath = Path(schema_folder, \"data.schema.json\")\n",
    "data_schema.save(data_schema_filepath)\n",
    "label_schema_filepath = Path(schema_folder, \"label.schema.json\")\n",
    "label_schema.save(label_schema_filepath)"
   ]
  },
  {
   "cell_type": "markdown",
   "id": "21a239bd",
   "metadata": {},
   "source": [
    "Up next, we create a SageMaker Session. A SageMaker Session can be used to\n",
    "conveniently perform certain AWS actions, such as uploading and downloading\n",
    "files from Amazon S3. We use the SageMaker Session to upload our schemas to\n",
    "Amazon S3."
   ]
  },
  {
   "cell_type": "code",
   "execution_count": null,
   "id": "92847df7",
   "metadata": {
    "tags": []
   },
   "outputs": [],
   "source": [
    "boto_session = boto3.session.Session(region_name=config.AWS_REGION)\n",
    "sagemaker_session = sagemaker.Session(boto_session)\n",
    "\n",
    "sagemaker_session.upload_data(\n",
    "    path=str(schema_folder),\n",
    "    bucket=config.S3_BUCKET,\n",
    "    key_prefix=config.SCHEMAS_S3_PREFIX\n",
    ")"
   ]
  },
  {
   "cell_type": "markdown",
   "id": "961a5332",
   "metadata": {},
   "source": [
    "We now have data and label schemas uploaded to Amazon S3, and they can\n",
    "now be used during model training and for model deployment."
   ]
  },
  {
   "cell_type": "markdown",
   "id": "c81df6e2",
   "metadata": {},
   "source": [
    "## Customization\n",
    "\n",
    "We have provided an example dataset above, but our solution is\n",
    "customizable if you have your own datasets. You can choose to use AWS\n",
    "Glue or perform the processing steps in some other way of your choosing.\n",
    "\n",
    "When your own data still needs to be prepared for machine learning (e.g.\n",
    "still need to be joined and flattened to create a single table), you\n",
    "can modify the AWS Glue Workflow that's provided to suit your own\n",
    "data. As an example, if your data is stored in Amazon RDS (or another\n",
    "JDBC data store) rather than Amazon S3, you can add an AWS Glue\n",
    "Connector and configure the AWS Glue Crawler and AWS Glue Job to use it.\n",
    "You should also modify the AWS Glue Job's script (written in PySpark) to\n",
    "suit your own data (e.g. change the joins and select features of\n",
    "interest).\n",
    "\n",
    "When your own data is already in a suitable format for machine learning\n",
    "(i.e. can be represented as a single table), you don't necessarily need\n",
    "to run the AWS Glue Workflow. Just upload the data to Amazon S3 (in the\n",
    "bucket created as part of the solution). You should however convert your\n",
    "data to the JSON Lines format that is used by the solution. And you\n",
    "should create JSON schemas for the data and label to take advantage of\n",
    "the automatic data preprocessing and data validation."
   ]
  },
  {
   "cell_type": "markdown",
   "id": "b610948d",
   "metadata": {},
   "source": [
    "## Next Stage\n",
    "\n",
    "Up next we'll train a LightGBM model using Amazon SageMaker, so we have\n",
    "an example trained model to explain.\n",
    "\n",
    "[Click here to continue.](./2_training.ipynb)"
   ]
  }
 ],
 "metadata": {
  "availableInstances": [
   {
    "_defaultOrder": 0,
    "_isFastLaunch": true,
    "category": "General purpose",
    "gpuNum": 0,
    "hideHardwareSpecs": false,
    "memoryGiB": 4,
    "name": "ml.t3.medium",
    "vcpuNum": 2
   },
   {
    "_defaultOrder": 1,
    "_isFastLaunch": false,
    "category": "General purpose",
    "gpuNum": 0,
    "hideHardwareSpecs": false,
    "memoryGiB": 8,
    "name": "ml.t3.large",
    "vcpuNum": 2
   },
   {
    "_defaultOrder": 2,
    "_isFastLaunch": false,
    "category": "General purpose",
    "gpuNum": 0,
    "hideHardwareSpecs": false,
    "memoryGiB": 16,
    "name": "ml.t3.xlarge",
    "vcpuNum": 4
   },
   {
    "_defaultOrder": 3,
    "_isFastLaunch": false,
    "category": "General purpose",
    "gpuNum": 0,
    "hideHardwareSpecs": false,
    "memoryGiB": 32,
    "name": "ml.t3.2xlarge",
    "vcpuNum": 8
   },
   {
    "_defaultOrder": 4,
    "_isFastLaunch": true,
    "category": "General purpose",
    "gpuNum": 0,
    "hideHardwareSpecs": false,
    "memoryGiB": 8,
    "name": "ml.m5.large",
    "vcpuNum": 2
   },
   {
    "_defaultOrder": 5,
    "_isFastLaunch": false,
    "category": "General purpose",
    "gpuNum": 0,
    "hideHardwareSpecs": false,
    "memoryGiB": 16,
    "name": "ml.m5.xlarge",
    "vcpuNum": 4
   },
   {
    "_defaultOrder": 6,
    "_isFastLaunch": false,
    "category": "General purpose",
    "gpuNum": 0,
    "hideHardwareSpecs": false,
    "memoryGiB": 32,
    "name": "ml.m5.2xlarge",
    "vcpuNum": 8
   },
   {
    "_defaultOrder": 7,
    "_isFastLaunch": false,
    "category": "General purpose",
    "gpuNum": 0,
    "hideHardwareSpecs": false,
    "memoryGiB": 64,
    "name": "ml.m5.4xlarge",
    "vcpuNum": 16
   },
   {
    "_defaultOrder": 8,
    "_isFastLaunch": false,
    "category": "General purpose",
    "gpuNum": 0,
    "hideHardwareSpecs": false,
    "memoryGiB": 128,
    "name": "ml.m5.8xlarge",
    "vcpuNum": 32
   },
   {
    "_defaultOrder": 9,
    "_isFastLaunch": false,
    "category": "General purpose",
    "gpuNum": 0,
    "hideHardwareSpecs": false,
    "memoryGiB": 192,
    "name": "ml.m5.12xlarge",
    "vcpuNum": 48
   },
   {
    "_defaultOrder": 10,
    "_isFastLaunch": false,
    "category": "General purpose",
    "gpuNum": 0,
    "hideHardwareSpecs": false,
    "memoryGiB": 256,
    "name": "ml.m5.16xlarge",
    "vcpuNum": 64
   },
   {
    "_defaultOrder": 11,
    "_isFastLaunch": false,
    "category": "General purpose",
    "gpuNum": 0,
    "hideHardwareSpecs": false,
    "memoryGiB": 384,
    "name": "ml.m5.24xlarge",
    "vcpuNum": 96
   },
   {
    "_defaultOrder": 12,
    "_isFastLaunch": false,
    "category": "General purpose",
    "gpuNum": 0,
    "hideHardwareSpecs": false,
    "memoryGiB": 8,
    "name": "ml.m5d.large",
    "vcpuNum": 2
   },
   {
    "_defaultOrder": 13,
    "_isFastLaunch": false,
    "category": "General purpose",
    "gpuNum": 0,
    "hideHardwareSpecs": false,
    "memoryGiB": 16,
    "name": "ml.m5d.xlarge",
    "vcpuNum": 4
   },
   {
    "_defaultOrder": 14,
    "_isFastLaunch": false,
    "category": "General purpose",
    "gpuNum": 0,
    "hideHardwareSpecs": false,
    "memoryGiB": 32,
    "name": "ml.m5d.2xlarge",
    "vcpuNum": 8
   },
   {
    "_defaultOrder": 15,
    "_isFastLaunch": false,
    "category": "General purpose",
    "gpuNum": 0,
    "hideHardwareSpecs": false,
    "memoryGiB": 64,
    "name": "ml.m5d.4xlarge",
    "vcpuNum": 16
   },
   {
    "_defaultOrder": 16,
    "_isFastLaunch": false,
    "category": "General purpose",
    "gpuNum": 0,
    "hideHardwareSpecs": false,
    "memoryGiB": 128,
    "name": "ml.m5d.8xlarge",
    "vcpuNum": 32
   },
   {
    "_defaultOrder": 17,
    "_isFastLaunch": false,
    "category": "General purpose",
    "gpuNum": 0,
    "hideHardwareSpecs": false,
    "memoryGiB": 192,
    "name": "ml.m5d.12xlarge",
    "vcpuNum": 48
   },
   {
    "_defaultOrder": 18,
    "_isFastLaunch": false,
    "category": "General purpose",
    "gpuNum": 0,
    "hideHardwareSpecs": false,
    "memoryGiB": 256,
    "name": "ml.m5d.16xlarge",
    "vcpuNum": 64
   },
   {
    "_defaultOrder": 19,
    "_isFastLaunch": false,
    "category": "General purpose",
    "gpuNum": 0,
    "hideHardwareSpecs": false,
    "memoryGiB": 384,
    "name": "ml.m5d.24xlarge",
    "vcpuNum": 96
   },
   {
    "_defaultOrder": 20,
    "_isFastLaunch": false,
    "category": "General purpose",
    "gpuNum": 0,
    "hideHardwareSpecs": true,
    "memoryGiB": 0,
    "name": "ml.geospatial.interactive",
    "supportedImageNames": [
     "sagemaker-geospatial-v1-0"
    ],
    "vcpuNum": 0
   },
   {
    "_defaultOrder": 21,
    "_isFastLaunch": true,
    "category": "Compute optimized",
    "gpuNum": 0,
    "hideHardwareSpecs": false,
    "memoryGiB": 4,
    "name": "ml.c5.large",
    "vcpuNum": 2
   },
   {
    "_defaultOrder": 22,
    "_isFastLaunch": false,
    "category": "Compute optimized",
    "gpuNum": 0,
    "hideHardwareSpecs": false,
    "memoryGiB": 8,
    "name": "ml.c5.xlarge",
    "vcpuNum": 4
   },
   {
    "_defaultOrder": 23,
    "_isFastLaunch": false,
    "category": "Compute optimized",
    "gpuNum": 0,
    "hideHardwareSpecs": false,
    "memoryGiB": 16,
    "name": "ml.c5.2xlarge",
    "vcpuNum": 8
   },
   {
    "_defaultOrder": 24,
    "_isFastLaunch": false,
    "category": "Compute optimized",
    "gpuNum": 0,
    "hideHardwareSpecs": false,
    "memoryGiB": 32,
    "name": "ml.c5.4xlarge",
    "vcpuNum": 16
   },
   {
    "_defaultOrder": 25,
    "_isFastLaunch": false,
    "category": "Compute optimized",
    "gpuNum": 0,
    "hideHardwareSpecs": false,
    "memoryGiB": 72,
    "name": "ml.c5.9xlarge",
    "vcpuNum": 36
   },
   {
    "_defaultOrder": 26,
    "_isFastLaunch": false,
    "category": "Compute optimized",
    "gpuNum": 0,
    "hideHardwareSpecs": false,
    "memoryGiB": 96,
    "name": "ml.c5.12xlarge",
    "vcpuNum": 48
   },
   {
    "_defaultOrder": 27,
    "_isFastLaunch": false,
    "category": "Compute optimized",
    "gpuNum": 0,
    "hideHardwareSpecs": false,
    "memoryGiB": 144,
    "name": "ml.c5.18xlarge",
    "vcpuNum": 72
   },
   {
    "_defaultOrder": 28,
    "_isFastLaunch": false,
    "category": "Compute optimized",
    "gpuNum": 0,
    "hideHardwareSpecs": false,
    "memoryGiB": 192,
    "name": "ml.c5.24xlarge",
    "vcpuNum": 96
   },
   {
    "_defaultOrder": 29,
    "_isFastLaunch": true,
    "category": "Accelerated computing",
    "gpuNum": 1,
    "hideHardwareSpecs": false,
    "memoryGiB": 16,
    "name": "ml.g4dn.xlarge",
    "vcpuNum": 4
   },
   {
    "_defaultOrder": 30,
    "_isFastLaunch": false,
    "category": "Accelerated computing",
    "gpuNum": 1,
    "hideHardwareSpecs": false,
    "memoryGiB": 32,
    "name": "ml.g4dn.2xlarge",
    "vcpuNum": 8
   },
   {
    "_defaultOrder": 31,
    "_isFastLaunch": false,
    "category": "Accelerated computing",
    "gpuNum": 1,
    "hideHardwareSpecs": false,
    "memoryGiB": 64,
    "name": "ml.g4dn.4xlarge",
    "vcpuNum": 16
   },
   {
    "_defaultOrder": 32,
    "_isFastLaunch": false,
    "category": "Accelerated computing",
    "gpuNum": 1,
    "hideHardwareSpecs": false,
    "memoryGiB": 128,
    "name": "ml.g4dn.8xlarge",
    "vcpuNum": 32
   },
   {
    "_defaultOrder": 33,
    "_isFastLaunch": false,
    "category": "Accelerated computing",
    "gpuNum": 4,
    "hideHardwareSpecs": false,
    "memoryGiB": 192,
    "name": "ml.g4dn.12xlarge",
    "vcpuNum": 48
   },
   {
    "_defaultOrder": 34,
    "_isFastLaunch": false,
    "category": "Accelerated computing",
    "gpuNum": 1,
    "hideHardwareSpecs": false,
    "memoryGiB": 256,
    "name": "ml.g4dn.16xlarge",
    "vcpuNum": 64
   },
   {
    "_defaultOrder": 35,
    "_isFastLaunch": false,
    "category": "Accelerated computing",
    "gpuNum": 1,
    "hideHardwareSpecs": false,
    "memoryGiB": 61,
    "name": "ml.p3.2xlarge",
    "vcpuNum": 8
   },
   {
    "_defaultOrder": 36,
    "_isFastLaunch": false,
    "category": "Accelerated computing",
    "gpuNum": 4,
    "hideHardwareSpecs": false,
    "memoryGiB": 244,
    "name": "ml.p3.8xlarge",
    "vcpuNum": 32
   },
   {
    "_defaultOrder": 37,
    "_isFastLaunch": false,
    "category": "Accelerated computing",
    "gpuNum": 8,
    "hideHardwareSpecs": false,
    "memoryGiB": 488,
    "name": "ml.p3.16xlarge",
    "vcpuNum": 64
   },
   {
    "_defaultOrder": 38,
    "_isFastLaunch": false,
    "category": "Accelerated computing",
    "gpuNum": 8,
    "hideHardwareSpecs": false,
    "memoryGiB": 768,
    "name": "ml.p3dn.24xlarge",
    "vcpuNum": 96
   },
   {
    "_defaultOrder": 39,
    "_isFastLaunch": false,
    "category": "Memory Optimized",
    "gpuNum": 0,
    "hideHardwareSpecs": false,
    "memoryGiB": 16,
    "name": "ml.r5.large",
    "vcpuNum": 2
   },
   {
    "_defaultOrder": 40,
    "_isFastLaunch": false,
    "category": "Memory Optimized",
    "gpuNum": 0,
    "hideHardwareSpecs": false,
    "memoryGiB": 32,
    "name": "ml.r5.xlarge",
    "vcpuNum": 4
   },
   {
    "_defaultOrder": 41,
    "_isFastLaunch": false,
    "category": "Memory Optimized",
    "gpuNum": 0,
    "hideHardwareSpecs": false,
    "memoryGiB": 64,
    "name": "ml.r5.2xlarge",
    "vcpuNum": 8
   },
   {
    "_defaultOrder": 42,
    "_isFastLaunch": false,
    "category": "Memory Optimized",
    "gpuNum": 0,
    "hideHardwareSpecs": false,
    "memoryGiB": 128,
    "name": "ml.r5.4xlarge",
    "vcpuNum": 16
   },
   {
    "_defaultOrder": 43,
    "_isFastLaunch": false,
    "category": "Memory Optimized",
    "gpuNum": 0,
    "hideHardwareSpecs": false,
    "memoryGiB": 256,
    "name": "ml.r5.8xlarge",
    "vcpuNum": 32
   },
   {
    "_defaultOrder": 44,
    "_isFastLaunch": false,
    "category": "Memory Optimized",
    "gpuNum": 0,
    "hideHardwareSpecs": false,
    "memoryGiB": 384,
    "name": "ml.r5.12xlarge",
    "vcpuNum": 48
   },
   {
    "_defaultOrder": 45,
    "_isFastLaunch": false,
    "category": "Memory Optimized",
    "gpuNum": 0,
    "hideHardwareSpecs": false,
    "memoryGiB": 512,
    "name": "ml.r5.16xlarge",
    "vcpuNum": 64
   },
   {
    "_defaultOrder": 46,
    "_isFastLaunch": false,
    "category": "Memory Optimized",
    "gpuNum": 0,
    "hideHardwareSpecs": false,
    "memoryGiB": 768,
    "name": "ml.r5.24xlarge",
    "vcpuNum": 96
   },
   {
    "_defaultOrder": 47,
    "_isFastLaunch": false,
    "category": "Accelerated computing",
    "gpuNum": 1,
    "hideHardwareSpecs": false,
    "memoryGiB": 16,
    "name": "ml.g5.xlarge",
    "vcpuNum": 4
   },
   {
    "_defaultOrder": 48,
    "_isFastLaunch": false,
    "category": "Accelerated computing",
    "gpuNum": 1,
    "hideHardwareSpecs": false,
    "memoryGiB": 32,
    "name": "ml.g5.2xlarge",
    "vcpuNum": 8
   },
   {
    "_defaultOrder": 49,
    "_isFastLaunch": false,
    "category": "Accelerated computing",
    "gpuNum": 1,
    "hideHardwareSpecs": false,
    "memoryGiB": 64,
    "name": "ml.g5.4xlarge",
    "vcpuNum": 16
   },
   {
    "_defaultOrder": 50,
    "_isFastLaunch": false,
    "category": "Accelerated computing",
    "gpuNum": 1,
    "hideHardwareSpecs": false,
    "memoryGiB": 128,
    "name": "ml.g5.8xlarge",
    "vcpuNum": 32
   },
   {
    "_defaultOrder": 51,
    "_isFastLaunch": false,
    "category": "Accelerated computing",
    "gpuNum": 1,
    "hideHardwareSpecs": false,
    "memoryGiB": 256,
    "name": "ml.g5.16xlarge",
    "vcpuNum": 64
   },
   {
    "_defaultOrder": 52,
    "_isFastLaunch": false,
    "category": "Accelerated computing",
    "gpuNum": 4,
    "hideHardwareSpecs": false,
    "memoryGiB": 192,
    "name": "ml.g5.12xlarge",
    "vcpuNum": 48
   },
   {
    "_defaultOrder": 53,
    "_isFastLaunch": false,
    "category": "Accelerated computing",
    "gpuNum": 4,
    "hideHardwareSpecs": false,
    "memoryGiB": 384,
    "name": "ml.g5.24xlarge",
    "vcpuNum": 96
   },
   {
    "_defaultOrder": 54,
    "_isFastLaunch": false,
    "category": "Accelerated computing",
    "gpuNum": 8,
    "hideHardwareSpecs": false,
    "memoryGiB": 768,
    "name": "ml.g5.48xlarge",
    "vcpuNum": 192
   },
   {
    "_defaultOrder": 55,
    "_isFastLaunch": false,
    "category": "Accelerated computing",
    "gpuNum": 8,
    "hideHardwareSpecs": false,
    "memoryGiB": 1152,
    "name": "ml.p4d.24xlarge",
    "vcpuNum": 96
   },
   {
    "_defaultOrder": 56,
    "_isFastLaunch": false,
    "category": "Accelerated computing",
    "gpuNum": 8,
    "hideHardwareSpecs": false,
    "memoryGiB": 1152,
    "name": "ml.p4de.24xlarge",
    "vcpuNum": 96
   }
  ],
  "instance_type": "ml.t3.medium",
  "kernelspec": {
   "display_name": "Python 3 (Data Science 2.0)",
   "language": "python",
   "name": "python3__SAGEMAKER_INTERNAL__arn:aws:sagemaker:us-east-1:081325390199:image/sagemaker-data-science-38"
  },
  "language_info": {
   "codemirror_mode": {
    "name": "ipython",
    "version": 3
   },
   "file_extension": ".py",
   "mimetype": "text/x-python",
   "name": "python",
   "nbconvert_exporter": "python",
   "pygments_lexer": "ipython3",
   "version": "3.8.13"
  }
 },
 "nbformat": 4,
 "nbformat_minor": 5
}
